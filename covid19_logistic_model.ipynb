{
 "cells": [
  {
   "cell_type": "markdown",
   "metadata": {},
   "source": [
    "## COVID-19 Logistic Model\n",
    "\n",
    "Jay Urbain, PhD\n",
    "\n",
    "References:  \n",
    "\n",
    "Interview\n",
    "Ari Libsker, Corona Is Slowing Down, Humanity Will Survive, Says Biophysicist Michael Levitt, 3/13/20.  \n",
    "https://www.calcalistech.com/ctech/articles/0,7340,L-3800632,00.html\n",
    "\n",
    "Chowell, G., Sattenspiel, L., Bansal, S., & Viboud, C. (2016). Mathematical models to characterize early epidemic growth: A review. Physics of life reviews, 18, 66–97. https://doi.org/10.1016/j.plrev.2016.07.005\n",
    "\n",
    "2019 Novel Coronavirus COVID-19 (2019-nCoV) Data Repository by Johns Hopkins CSSE   \n",
    "https://github.com/CSSEGISandData/COVID-19\n",
    "\n",
    "Exponential growth and epidemics, CDC  \n",
    "https://www.youtube.com/watch?v=Kas0tIxDvrg\n",
    "\n",
    "Estimating actual COVID 19 cases (novel corona virus infections) in an area based on deaths, CDC  \n",
    "https://www.youtube.com/watch?v=mCa0JXEwDEk  \n",
    "\n",
    "Mathematics of the Corona outbreak – with professor Tom Britton   \n",
    "https://www.youtube.com/watch?v=gSqIwXl6IjQ"
   ]
  },
  {
   "cell_type": "code",
   "execution_count": 1,
   "metadata": {},
   "outputs": [
    {
     "data": {
      "application/javascript": [
       "IPython.OutputArea.prototype._should_scroll = function(lines) {\n",
       "    return false\n",
       "}\n"
      ],
      "text/plain": [
       "<IPython.core.display.Javascript object>"
      ]
     },
     "metadata": {},
     "output_type": "display_data"
    }
   ],
   "source": [
    "%%javascript\n",
    "IPython.OutputArea.prototype._should_scroll = function(lines) {\n",
    "    return false\n",
    "}"
   ]
  },
  {
   "cell_type": "code",
   "execution_count": 2,
   "metadata": {},
   "outputs": [],
   "source": [
    "## Import Libraries\n",
    "import numpy as np\n",
    "import pandas as pd\n",
    "import matplotlib\n",
    "import matplotlib.pyplot as plt\n",
    "from pandas.plotting import register_matplotlib_converters\n",
    "register_matplotlib_converters()\n",
    "#%matplotlib inline\n",
    "import plotly.express as px\n",
    "import plotly.graph_objects as go\n",
    "from plotly.subplots import make_subplots\n",
    "plt.rcParams['figure.figsize'] = [15, 5]\n",
    "from IPython import display\n",
    "from ipywidgets import interact, widgets\n",
    "import seaborn as sns\n",
    "\n"
   ]
  },
  {
   "cell_type": "markdown",
   "metadata": {},
   "source": [
    "#### Data\n",
    "\n",
    "The data is hosted by John Hopkins University:  \n",
    "https://github.com/CSSEGISandData/COVID-19\n",
    "\n",
    "time_series_covid19_confirmed_global.csv\n",
    "\n",
    "There are three files that contain total confirmed cases, deaths and recoveries."
   ]
  },
  {
   "cell_type": "code",
   "execution_count": 3,
   "metadata": {},
   "outputs": [
    {
     "data": {
      "text/html": [
       "<div>\n",
       "<style scoped>\n",
       "    .dataframe tbody tr th:only-of-type {\n",
       "        vertical-align: middle;\n",
       "    }\n",
       "\n",
       "    .dataframe tbody tr th {\n",
       "        vertical-align: top;\n",
       "    }\n",
       "\n",
       "    .dataframe thead th {\n",
       "        text-align: right;\n",
       "    }\n",
       "</style>\n",
       "<table border=\"1\" class=\"dataframe\">\n",
       "  <thead>\n",
       "    <tr style=\"text-align: right;\">\n",
       "      <th></th>\n",
       "      <th>Province/State</th>\n",
       "      <th>Country/Region</th>\n",
       "      <th>Lat</th>\n",
       "      <th>Long</th>\n",
       "      <th>1/22/20</th>\n",
       "      <th>1/23/20</th>\n",
       "      <th>1/24/20</th>\n",
       "      <th>1/25/20</th>\n",
       "      <th>1/26/20</th>\n",
       "      <th>1/27/20</th>\n",
       "      <th>...</th>\n",
       "      <th>3/16/20</th>\n",
       "      <th>3/17/20</th>\n",
       "      <th>3/18/20</th>\n",
       "      <th>3/19/20</th>\n",
       "      <th>3/20/20</th>\n",
       "      <th>3/21/20</th>\n",
       "      <th>3/22/20</th>\n",
       "      <th>3/23/20</th>\n",
       "      <th>3/24/20</th>\n",
       "      <th>3/25/20</th>\n",
       "    </tr>\n",
       "  </thead>\n",
       "  <tbody>\n",
       "    <tr>\n",
       "      <th>0</th>\n",
       "      <td>NaN</td>\n",
       "      <td>Afghanistan</td>\n",
       "      <td>33.0000</td>\n",
       "      <td>65.0000</td>\n",
       "      <td>0</td>\n",
       "      <td>0</td>\n",
       "      <td>0</td>\n",
       "      <td>0</td>\n",
       "      <td>0</td>\n",
       "      <td>0</td>\n",
       "      <td>...</td>\n",
       "      <td>21</td>\n",
       "      <td>22</td>\n",
       "      <td>22</td>\n",
       "      <td>22</td>\n",
       "      <td>24</td>\n",
       "      <td>24</td>\n",
       "      <td>40</td>\n",
       "      <td>40</td>\n",
       "      <td>74</td>\n",
       "      <td>84</td>\n",
       "    </tr>\n",
       "    <tr>\n",
       "      <th>1</th>\n",
       "      <td>NaN</td>\n",
       "      <td>Albania</td>\n",
       "      <td>41.1533</td>\n",
       "      <td>20.1683</td>\n",
       "      <td>0</td>\n",
       "      <td>0</td>\n",
       "      <td>0</td>\n",
       "      <td>0</td>\n",
       "      <td>0</td>\n",
       "      <td>0</td>\n",
       "      <td>...</td>\n",
       "      <td>51</td>\n",
       "      <td>55</td>\n",
       "      <td>59</td>\n",
       "      <td>64</td>\n",
       "      <td>70</td>\n",
       "      <td>76</td>\n",
       "      <td>89</td>\n",
       "      <td>104</td>\n",
       "      <td>123</td>\n",
       "      <td>146</td>\n",
       "    </tr>\n",
       "    <tr>\n",
       "      <th>2</th>\n",
       "      <td>NaN</td>\n",
       "      <td>Algeria</td>\n",
       "      <td>28.0339</td>\n",
       "      <td>1.6596</td>\n",
       "      <td>0</td>\n",
       "      <td>0</td>\n",
       "      <td>0</td>\n",
       "      <td>0</td>\n",
       "      <td>0</td>\n",
       "      <td>0</td>\n",
       "      <td>...</td>\n",
       "      <td>54</td>\n",
       "      <td>60</td>\n",
       "      <td>74</td>\n",
       "      <td>87</td>\n",
       "      <td>90</td>\n",
       "      <td>139</td>\n",
       "      <td>201</td>\n",
       "      <td>230</td>\n",
       "      <td>264</td>\n",
       "      <td>302</td>\n",
       "    </tr>\n",
       "    <tr>\n",
       "      <th>3</th>\n",
       "      <td>NaN</td>\n",
       "      <td>Andorra</td>\n",
       "      <td>42.5063</td>\n",
       "      <td>1.5218</td>\n",
       "      <td>0</td>\n",
       "      <td>0</td>\n",
       "      <td>0</td>\n",
       "      <td>0</td>\n",
       "      <td>0</td>\n",
       "      <td>0</td>\n",
       "      <td>...</td>\n",
       "      <td>2</td>\n",
       "      <td>39</td>\n",
       "      <td>39</td>\n",
       "      <td>53</td>\n",
       "      <td>75</td>\n",
       "      <td>88</td>\n",
       "      <td>113</td>\n",
       "      <td>133</td>\n",
       "      <td>164</td>\n",
       "      <td>188</td>\n",
       "    </tr>\n",
       "    <tr>\n",
       "      <th>4</th>\n",
       "      <td>NaN</td>\n",
       "      <td>Angola</td>\n",
       "      <td>-11.2027</td>\n",
       "      <td>17.8739</td>\n",
       "      <td>0</td>\n",
       "      <td>0</td>\n",
       "      <td>0</td>\n",
       "      <td>0</td>\n",
       "      <td>0</td>\n",
       "      <td>0</td>\n",
       "      <td>...</td>\n",
       "      <td>0</td>\n",
       "      <td>0</td>\n",
       "      <td>0</td>\n",
       "      <td>0</td>\n",
       "      <td>1</td>\n",
       "      <td>2</td>\n",
       "      <td>2</td>\n",
       "      <td>3</td>\n",
       "      <td>3</td>\n",
       "      <td>3</td>\n",
       "    </tr>\n",
       "  </tbody>\n",
       "</table>\n",
       "<p>5 rows × 68 columns</p>\n",
       "</div>"
      ],
      "text/plain": [
       "  Province/State Country/Region      Lat     Long  1/22/20  1/23/20  1/24/20  \\\n",
       "0            NaN    Afghanistan  33.0000  65.0000        0        0        0   \n",
       "1            NaN        Albania  41.1533  20.1683        0        0        0   \n",
       "2            NaN        Algeria  28.0339   1.6596        0        0        0   \n",
       "3            NaN        Andorra  42.5063   1.5218        0        0        0   \n",
       "4            NaN         Angola -11.2027  17.8739        0        0        0   \n",
       "\n",
       "   1/25/20  1/26/20  1/27/20  ...  3/16/20  3/17/20  3/18/20  3/19/20  \\\n",
       "0        0        0        0  ...       21       22       22       22   \n",
       "1        0        0        0  ...       51       55       59       64   \n",
       "2        0        0        0  ...       54       60       74       87   \n",
       "3        0        0        0  ...        2       39       39       53   \n",
       "4        0        0        0  ...        0        0        0        0   \n",
       "\n",
       "   3/20/20  3/21/20  3/22/20  3/23/20  3/24/20  3/25/20  \n",
       "0       24       24       40       40       74       84  \n",
       "1       70       76       89      104      123      146  \n",
       "2       90      139      201      230      264      302  \n",
       "3       75       88      113      133      164      188  \n",
       "4        1        2        2        3        3        3  \n",
       "\n",
       "[5 rows x 68 columns]"
      ]
     },
     "execution_count": 3,
     "metadata": {},
     "output_type": "execute_result"
    }
   ],
   "source": [
    "df_confirmed_raw_new=pd.read_csv('https://raw.githubusercontent.com/CSSEGISandData/COVID-19/master/csse_covid_19_data/csse_covid_19_time_series/time_series_covid19_confirmed_global.csv')\n",
    "df_confirmed_raw_new.head()"
   ]
  },
  {
   "cell_type": "code",
   "execution_count": 9,
   "metadata": {},
   "outputs": [],
   "source": [
    "# ## Read Data for Cases, Deaths and Recoveries\n",
    "# df_confirmed_raw=pd.read_csv('https://raw.githubusercontent.com/CSSEGISandData/COVID-19/master/csse_covid_19_data/csse_covid_19_time_series/time_series_19-covid-Confirmed.csv')\n",
    "# df_deaths_raw=pd.read_csv('https://raw.githubusercontent.com/CSSEGISandData/COVID-19/master/csse_covid_19_data/csse_covid_19_time_series/time_series_19-covid-Deaths.csv')\n",
    "# df_recovered_raw=pd.read_csv('https://raw.githubusercontent.com/CSSEGISandData/COVID-19/master/csse_covid_19_data/csse_covid_19_time_series/time_series_19-covid-Recovered.csv')\n"
   ]
  },
  {
   "cell_type": "code",
   "execution_count": 10,
   "metadata": {},
   "outputs": [],
   "source": [
    "# df_confirmed_raw.head()"
   ]
  },
  {
   "cell_type": "markdown",
   "metadata": {},
   "source": [
    "#### Data Preprocessing\n",
    "\n",
    "Unpivot the data"
   ]
  },
  {
   "cell_type": "code",
   "execution_count": 18,
   "metadata": {},
   "outputs": [],
   "source": [
    "# melt df into correct shape \n",
    "# index\n",
    "def unpivot_data(df_raw):\n",
    "    df_unpivot=df_raw.melt(id_vars=['Province/State','Country/Region','Lat','Long'], value_name='Cases', var_name='Date')\n",
    "    df_unpivot['Date'] = pd.to_datetime(df_unpivot['Date'])\n",
    "    df_unpivot=df_unpivot.set_index(['Date'])\n",
    "    return df_unpivot \n",
    "\n",
    "# Unpivot datasets datasets\n",
    "# df_confirmed=unpivot_data(df_confirmed_raw)\n",
    "# df_deaths=unpivot_data(df_deaths_raw)\n",
    "# df_recovered=unpivot_data(df_recovered_raw)\n",
    "df_confirmed=unpivot_data(df_confirmed_raw_new)\n"
   ]
  },
  {
   "cell_type": "code",
   "execution_count": 19,
   "metadata": {},
   "outputs": [
    {
     "data": {
      "text/html": [
       "<div>\n",
       "<style scoped>\n",
       "    .dataframe tbody tr th:only-of-type {\n",
       "        vertical-align: middle;\n",
       "    }\n",
       "\n",
       "    .dataframe tbody tr th {\n",
       "        vertical-align: top;\n",
       "    }\n",
       "\n",
       "    .dataframe thead th {\n",
       "        text-align: right;\n",
       "    }\n",
       "</style>\n",
       "<table border=\"1\" class=\"dataframe\">\n",
       "  <thead>\n",
       "    <tr style=\"text-align: right;\">\n",
       "      <th></th>\n",
       "      <th>Province/State</th>\n",
       "      <th>Country/Region</th>\n",
       "      <th>Lat</th>\n",
       "      <th>Long</th>\n",
       "      <th>Cases</th>\n",
       "    </tr>\n",
       "    <tr>\n",
       "      <th>Date</th>\n",
       "      <th></th>\n",
       "      <th></th>\n",
       "      <th></th>\n",
       "      <th></th>\n",
       "      <th></th>\n",
       "    </tr>\n",
       "  </thead>\n",
       "  <tbody>\n",
       "    <tr>\n",
       "      <th>2020-01-22</th>\n",
       "      <td>NaN</td>\n",
       "      <td>Afghanistan</td>\n",
       "      <td>33.0000</td>\n",
       "      <td>65.0000</td>\n",
       "      <td>0</td>\n",
       "    </tr>\n",
       "    <tr>\n",
       "      <th>2020-01-22</th>\n",
       "      <td>NaN</td>\n",
       "      <td>Albania</td>\n",
       "      <td>41.1533</td>\n",
       "      <td>20.1683</td>\n",
       "      <td>0</td>\n",
       "    </tr>\n",
       "    <tr>\n",
       "      <th>2020-01-22</th>\n",
       "      <td>NaN</td>\n",
       "      <td>Algeria</td>\n",
       "      <td>28.0339</td>\n",
       "      <td>1.6596</td>\n",
       "      <td>0</td>\n",
       "    </tr>\n",
       "    <tr>\n",
       "      <th>2020-01-22</th>\n",
       "      <td>NaN</td>\n",
       "      <td>Andorra</td>\n",
       "      <td>42.5063</td>\n",
       "      <td>1.5218</td>\n",
       "      <td>0</td>\n",
       "    </tr>\n",
       "    <tr>\n",
       "      <th>2020-01-22</th>\n",
       "      <td>NaN</td>\n",
       "      <td>Angola</td>\n",
       "      <td>-11.2027</td>\n",
       "      <td>17.8739</td>\n",
       "      <td>0</td>\n",
       "    </tr>\n",
       "  </tbody>\n",
       "</table>\n",
       "</div>"
      ],
      "text/plain": [
       "           Province/State Country/Region      Lat     Long  Cases\n",
       "Date                                                             \n",
       "2020-01-22            NaN    Afghanistan  33.0000  65.0000      0\n",
       "2020-01-22            NaN        Albania  41.1533  20.1683      0\n",
       "2020-01-22            NaN        Algeria  28.0339   1.6596      0\n",
       "2020-01-22            NaN        Andorra  42.5063   1.5218      0\n",
       "2020-01-22            NaN         Angola -11.2027  17.8739      0"
      ]
     },
     "execution_count": 19,
     "metadata": {},
     "output_type": "execute_result"
    }
   ],
   "source": [
    "df_confirmed.head()"
   ]
  },
  {
   "cell_type": "markdown",
   "metadata": {},
   "source": [
    "List countries"
   ]
  },
  {
   "cell_type": "code",
   "execution_count": 20,
   "metadata": {},
   "outputs": [
    {
     "data": {
      "text/plain": [
       "array(['Afghanistan', 'Albania', 'Algeria', 'Andorra', 'Angola',\n",
       "       'Antigua and Barbuda', 'Argentina', 'Armenia', 'Australia',\n",
       "       'Austria', 'Azerbaijan', 'Bahamas', 'Bahrain', 'Bangladesh',\n",
       "       'Barbados', 'Belarus', 'Belgium', 'Belize', 'Benin', 'Bhutan',\n",
       "       'Bolivia', 'Bosnia and Herzegovina', 'Brazil', 'Brunei',\n",
       "       'Bulgaria', 'Burkina Faso', 'Cabo Verde', 'Cambodia', 'Cameroon',\n",
       "       'Canada', 'Central African Republic', 'Chad', 'Chile', 'China',\n",
       "       'Colombia', 'Congo (Brazzaville)', 'Congo (Kinshasa)',\n",
       "       'Costa Rica', \"Cote d'Ivoire\", 'Croatia', 'Cuba', 'Cyprus',\n",
       "       'Czechia', 'Denmark', 'Diamond Princess', 'Djibouti', 'Dominica',\n",
       "       'Dominican Republic', 'Ecuador', 'Egypt', 'El Salvador',\n",
       "       'Equatorial Guinea', 'Eritrea', 'Estonia', 'Eswatini', 'Ethiopia',\n",
       "       'Fiji', 'Finland', 'France', 'Gabon', 'Gambia', 'Georgia',\n",
       "       'Germany', 'Ghana', 'Greece', 'Grenada', 'Guatemala', 'Guinea',\n",
       "       'Guinea-Bissau', 'Guyana', 'Haiti', 'Holy See', 'Honduras',\n",
       "       'Hungary', 'Iceland', 'India', 'Indonesia', 'Iran', 'Iraq',\n",
       "       'Ireland', 'Israel', 'Italy', 'Jamaica', 'Japan', 'Jordan',\n",
       "       'Kazakhstan', 'Kenya', 'Korea, South', 'Kuwait', 'Kyrgyzstan',\n",
       "       'Laos', 'Latvia', 'Lebanon', 'Liberia', 'Libya', 'Liechtenstein',\n",
       "       'Lithuania', 'Luxembourg', 'Madagascar', 'Malaysia', 'Maldives',\n",
       "       'Mali', 'Malta', 'Mauritania', 'Mauritius', 'Mexico', 'Moldova',\n",
       "       'Monaco', 'Mongolia', 'Montenegro', 'Morocco', 'Mozambique',\n",
       "       'Namibia', 'Nepal', 'Netherlands', 'New Zealand', 'Nicaragua',\n",
       "       'Niger', 'Nigeria', 'North Macedonia', 'Norway', 'Oman',\n",
       "       'Pakistan', 'Panama', 'Papua New Guinea', 'Paraguay', 'Peru',\n",
       "       'Philippines', 'Poland', 'Portugal', 'Qatar', 'Romania', 'Russia',\n",
       "       'Rwanda', 'Saint Kitts and Nevis', 'Saint Lucia',\n",
       "       'Saint Vincent and the Grenadines', 'San Marino', 'Saudi Arabia',\n",
       "       'Senegal', 'Serbia', 'Seychelles', 'Singapore', 'Slovakia',\n",
       "       'Slovenia', 'Somalia', 'South Africa', 'Spain', 'Sri Lanka',\n",
       "       'Sudan', 'Suriname', 'Sweden', 'Switzerland', 'Syria', 'Taiwan*',\n",
       "       'Tanzania', 'Thailand', 'Timor-Leste', 'Togo',\n",
       "       'Trinidad and Tobago', 'Tunisia', 'Turkey', 'US', 'Uganda',\n",
       "       'Ukraine', 'United Arab Emirates', 'United Kingdom', 'Uruguay',\n",
       "       'Uzbekistan', 'Venezuela', 'Vietnam', 'West Bank and Gaza',\n",
       "       'Zambia', 'Zimbabwe'], dtype=object)"
      ]
     },
     "execution_count": 20,
     "metadata": {},
     "output_type": "execute_result"
    }
   ],
   "source": [
    "np.sort(df_confirmed['Country/Region'].unique())"
   ]
  },
  {
   "cell_type": "code",
   "execution_count": 21,
   "metadata": {},
   "outputs": [
    {
     "data": {
      "text/html": [
       "<div>\n",
       "<style scoped>\n",
       "    .dataframe tbody tr th:only-of-type {\n",
       "        vertical-align: middle;\n",
       "    }\n",
       "\n",
       "    .dataframe tbody tr th {\n",
       "        vertical-align: top;\n",
       "    }\n",
       "\n",
       "    .dataframe thead th {\n",
       "        text-align: right;\n",
       "    }\n",
       "</style>\n",
       "<table border=\"1\" class=\"dataframe\">\n",
       "  <thead>\n",
       "    <tr style=\"text-align: right;\">\n",
       "      <th></th>\n",
       "      <th>Province/State</th>\n",
       "      <th>Country/Region</th>\n",
       "      <th>Lat</th>\n",
       "      <th>Long</th>\n",
       "      <th>Cases</th>\n",
       "    </tr>\n",
       "    <tr>\n",
       "      <th>Date</th>\n",
       "      <th></th>\n",
       "      <th></th>\n",
       "      <th></th>\n",
       "      <th></th>\n",
       "      <th></th>\n",
       "    </tr>\n",
       "  </thead>\n",
       "  <tbody>\n",
       "    <tr>\n",
       "      <th>2020-01-22</th>\n",
       "      <td>NaN</td>\n",
       "      <td>Afghanistan</td>\n",
       "      <td>33.0000</td>\n",
       "      <td>65.0000</td>\n",
       "      <td>0</td>\n",
       "    </tr>\n",
       "    <tr>\n",
       "      <th>2020-01-22</th>\n",
       "      <td>NaN</td>\n",
       "      <td>Albania</td>\n",
       "      <td>41.1533</td>\n",
       "      <td>20.1683</td>\n",
       "      <td>0</td>\n",
       "    </tr>\n",
       "    <tr>\n",
       "      <th>2020-01-22</th>\n",
       "      <td>NaN</td>\n",
       "      <td>Algeria</td>\n",
       "      <td>28.0339</td>\n",
       "      <td>1.6596</td>\n",
       "      <td>0</td>\n",
       "    </tr>\n",
       "    <tr>\n",
       "      <th>2020-01-22</th>\n",
       "      <td>NaN</td>\n",
       "      <td>Andorra</td>\n",
       "      <td>42.5063</td>\n",
       "      <td>1.5218</td>\n",
       "      <td>0</td>\n",
       "    </tr>\n",
       "    <tr>\n",
       "      <th>2020-01-22</th>\n",
       "      <td>NaN</td>\n",
       "      <td>Angola</td>\n",
       "      <td>-11.2027</td>\n",
       "      <td>17.8739</td>\n",
       "      <td>0</td>\n",
       "    </tr>\n",
       "  </tbody>\n",
       "</table>\n",
       "</div>"
      ],
      "text/plain": [
       "           Province/State Country/Region      Lat     Long  Cases\n",
       "Date                                                             \n",
       "2020-01-22            NaN    Afghanistan  33.0000  65.0000      0\n",
       "2020-01-22            NaN        Albania  41.1533  20.1683      0\n",
       "2020-01-22            NaN        Algeria  28.0339   1.6596      0\n",
       "2020-01-22            NaN        Andorra  42.5063   1.5218      0\n",
       "2020-01-22            NaN         Angola -11.2027  17.8739      0"
      ]
     },
     "execution_count": 21,
     "metadata": {},
     "output_type": "execute_result"
    }
   ],
   "source": [
    "df_confirmed.head()"
   ]
  },
  {
   "cell_type": "code",
   "execution_count": 22,
   "metadata": {},
   "outputs": [
    {
     "data": {
      "text/html": [
       "<div>\n",
       "<style scoped>\n",
       "    .dataframe tbody tr th:only-of-type {\n",
       "        vertical-align: middle;\n",
       "    }\n",
       "\n",
       "    .dataframe tbody tr th {\n",
       "        vertical-align: top;\n",
       "    }\n",
       "\n",
       "    .dataframe thead th {\n",
       "        text-align: right;\n",
       "    }\n",
       "</style>\n",
       "<table border=\"1\" class=\"dataframe\">\n",
       "  <thead>\n",
       "    <tr style=\"text-align: right;\">\n",
       "      <th></th>\n",
       "      <th>Province/State</th>\n",
       "      <th>Country/Region</th>\n",
       "      <th>Lat</th>\n",
       "      <th>Long</th>\n",
       "      <th>Cases</th>\n",
       "    </tr>\n",
       "    <tr>\n",
       "      <th>Date</th>\n",
       "      <th></th>\n",
       "      <th></th>\n",
       "      <th></th>\n",
       "      <th></th>\n",
       "      <th></th>\n",
       "    </tr>\n",
       "  </thead>\n",
       "  <tbody>\n",
       "    <tr>\n",
       "      <th>2020-01-22</th>\n",
       "      <td>French Guiana</td>\n",
       "      <td>France</td>\n",
       "      <td>3.9339</td>\n",
       "      <td>-53.1258</td>\n",
       "      <td>0</td>\n",
       "    </tr>\n",
       "    <tr>\n",
       "      <th>2020-01-22</th>\n",
       "      <td>French Polynesia</td>\n",
       "      <td>France</td>\n",
       "      <td>-17.6797</td>\n",
       "      <td>149.4068</td>\n",
       "      <td>0</td>\n",
       "    </tr>\n",
       "    <tr>\n",
       "      <th>2020-01-22</th>\n",
       "      <td>Guadeloupe</td>\n",
       "      <td>France</td>\n",
       "      <td>16.2500</td>\n",
       "      <td>-61.5833</td>\n",
       "      <td>0</td>\n",
       "    </tr>\n",
       "    <tr>\n",
       "      <th>2020-01-22</th>\n",
       "      <td>Mayotte</td>\n",
       "      <td>France</td>\n",
       "      <td>-12.8275</td>\n",
       "      <td>45.1662</td>\n",
       "      <td>0</td>\n",
       "    </tr>\n",
       "    <tr>\n",
       "      <th>2020-01-22</th>\n",
       "      <td>New Caledonia</td>\n",
       "      <td>France</td>\n",
       "      <td>-20.9043</td>\n",
       "      <td>165.6180</td>\n",
       "      <td>0</td>\n",
       "    </tr>\n",
       "    <tr>\n",
       "      <th>...</th>\n",
       "      <td>...</td>\n",
       "      <td>...</td>\n",
       "      <td>...</td>\n",
       "      <td>...</td>\n",
       "      <td>...</td>\n",
       "    </tr>\n",
       "    <tr>\n",
       "      <th>2020-03-25</th>\n",
       "      <td>Reunion</td>\n",
       "      <td>France</td>\n",
       "      <td>-21.1351</td>\n",
       "      <td>55.2471</td>\n",
       "      <td>111</td>\n",
       "    </tr>\n",
       "    <tr>\n",
       "      <th>2020-03-25</th>\n",
       "      <td>Saint Barthelemy</td>\n",
       "      <td>France</td>\n",
       "      <td>17.9000</td>\n",
       "      <td>-62.8333</td>\n",
       "      <td>3</td>\n",
       "    </tr>\n",
       "    <tr>\n",
       "      <th>2020-03-25</th>\n",
       "      <td>St Martin</td>\n",
       "      <td>France</td>\n",
       "      <td>18.0708</td>\n",
       "      <td>-63.0501</td>\n",
       "      <td>11</td>\n",
       "    </tr>\n",
       "    <tr>\n",
       "      <th>2020-03-25</th>\n",
       "      <td>Martinique</td>\n",
       "      <td>France</td>\n",
       "      <td>14.6415</td>\n",
       "      <td>-61.0242</td>\n",
       "      <td>66</td>\n",
       "    </tr>\n",
       "    <tr>\n",
       "      <th>2020-03-25</th>\n",
       "      <td>NaN</td>\n",
       "      <td>France</td>\n",
       "      <td>46.2276</td>\n",
       "      <td>2.2137</td>\n",
       "      <td>25233</td>\n",
       "    </tr>\n",
       "  </tbody>\n",
       "</table>\n",
       "<p>640 rows × 5 columns</p>\n",
       "</div>"
      ],
      "text/plain": [
       "              Province/State Country/Region      Lat      Long  Cases\n",
       "Date                                                                 \n",
       "2020-01-22     French Guiana         France   3.9339  -53.1258      0\n",
       "2020-01-22  French Polynesia         France -17.6797  149.4068      0\n",
       "2020-01-22        Guadeloupe         France  16.2500  -61.5833      0\n",
       "2020-01-22           Mayotte         France -12.8275   45.1662      0\n",
       "2020-01-22     New Caledonia         France -20.9043  165.6180      0\n",
       "...                      ...            ...      ...       ...    ...\n",
       "2020-03-25           Reunion         France -21.1351   55.2471    111\n",
       "2020-03-25  Saint Barthelemy         France  17.9000  -62.8333      3\n",
       "2020-03-25         St Martin         France  18.0708  -63.0501     11\n",
       "2020-03-25        Martinique         France  14.6415  -61.0242     66\n",
       "2020-03-25               NaN         France  46.2276    2.2137  25233\n",
       "\n",
       "[640 rows x 5 columns]"
      ]
     },
     "execution_count": 22,
     "metadata": {},
     "output_type": "execute_result"
    }
   ],
   "source": [
    "df_confirmed[df_confirmed['Country/Region'] == 'France']"
   ]
  },
  {
   "cell_type": "code",
   "execution_count": 23,
   "metadata": {},
   "outputs": [
    {
     "data": {
      "text/html": [
       "<div>\n",
       "<style scoped>\n",
       "    .dataframe tbody tr th:only-of-type {\n",
       "        vertical-align: middle;\n",
       "    }\n",
       "\n",
       "    .dataframe tbody tr th {\n",
       "        vertical-align: top;\n",
       "    }\n",
       "\n",
       "    .dataframe thead th {\n",
       "        text-align: right;\n",
       "    }\n",
       "</style>\n",
       "<table border=\"1\" class=\"dataframe\">\n",
       "  <thead>\n",
       "    <tr style=\"text-align: right;\">\n",
       "      <th></th>\n",
       "      <th>Province/State</th>\n",
       "      <th>Country/Region</th>\n",
       "      <th>Lat</th>\n",
       "      <th>Long</th>\n",
       "      <th>Cases</th>\n",
       "    </tr>\n",
       "    <tr>\n",
       "      <th>Date</th>\n",
       "      <th></th>\n",
       "      <th></th>\n",
       "      <th></th>\n",
       "      <th></th>\n",
       "      <th></th>\n",
       "    </tr>\n",
       "  </thead>\n",
       "  <tbody>\n",
       "    <tr>\n",
       "      <th>2020-01-22</th>\n",
       "      <td>Bermuda</td>\n",
       "      <td>United Kingdom</td>\n",
       "      <td>32.3078</td>\n",
       "      <td>-64.7505</td>\n",
       "      <td>0</td>\n",
       "    </tr>\n",
       "    <tr>\n",
       "      <th>2020-01-22</th>\n",
       "      <td>Cayman Islands</td>\n",
       "      <td>United Kingdom</td>\n",
       "      <td>19.3133</td>\n",
       "      <td>-81.2546</td>\n",
       "      <td>0</td>\n",
       "    </tr>\n",
       "    <tr>\n",
       "      <th>2020-01-22</th>\n",
       "      <td>Channel Islands</td>\n",
       "      <td>United Kingdom</td>\n",
       "      <td>49.3723</td>\n",
       "      <td>-2.3644</td>\n",
       "      <td>0</td>\n",
       "    </tr>\n",
       "    <tr>\n",
       "      <th>2020-01-22</th>\n",
       "      <td>Gibraltar</td>\n",
       "      <td>United Kingdom</td>\n",
       "      <td>36.1408</td>\n",
       "      <td>-5.3536</td>\n",
       "      <td>0</td>\n",
       "    </tr>\n",
       "    <tr>\n",
       "      <th>2020-01-22</th>\n",
       "      <td>Isle of Man</td>\n",
       "      <td>United Kingdom</td>\n",
       "      <td>54.2361</td>\n",
       "      <td>-4.5481</td>\n",
       "      <td>0</td>\n",
       "    </tr>\n",
       "    <tr>\n",
       "      <th>...</th>\n",
       "      <td>...</td>\n",
       "      <td>...</td>\n",
       "      <td>...</td>\n",
       "      <td>...</td>\n",
       "      <td>...</td>\n",
       "    </tr>\n",
       "    <tr>\n",
       "      <th>2020-03-25</th>\n",
       "      <td>Channel Islands</td>\n",
       "      <td>United Kingdom</td>\n",
       "      <td>49.3723</td>\n",
       "      <td>-2.3644</td>\n",
       "      <td>46</td>\n",
       "    </tr>\n",
       "    <tr>\n",
       "      <th>2020-03-25</th>\n",
       "      <td>Gibraltar</td>\n",
       "      <td>United Kingdom</td>\n",
       "      <td>36.1408</td>\n",
       "      <td>-5.3536</td>\n",
       "      <td>26</td>\n",
       "    </tr>\n",
       "    <tr>\n",
       "      <th>2020-03-25</th>\n",
       "      <td>Isle of Man</td>\n",
       "      <td>United Kingdom</td>\n",
       "      <td>54.2361</td>\n",
       "      <td>-4.5481</td>\n",
       "      <td>23</td>\n",
       "    </tr>\n",
       "    <tr>\n",
       "      <th>2020-03-25</th>\n",
       "      <td>Montserrat</td>\n",
       "      <td>United Kingdom</td>\n",
       "      <td>16.7425</td>\n",
       "      <td>-62.1874</td>\n",
       "      <td>1</td>\n",
       "    </tr>\n",
       "    <tr>\n",
       "      <th>2020-03-25</th>\n",
       "      <td>NaN</td>\n",
       "      <td>United Kingdom</td>\n",
       "      <td>55.3781</td>\n",
       "      <td>-3.4360</td>\n",
       "      <td>9529</td>\n",
       "    </tr>\n",
       "  </tbody>\n",
       "</table>\n",
       "<p>448 rows × 5 columns</p>\n",
       "</div>"
      ],
      "text/plain": [
       "             Province/State  Country/Region      Lat     Long  Cases\n",
       "Date                                                                \n",
       "2020-01-22          Bermuda  United Kingdom  32.3078 -64.7505      0\n",
       "2020-01-22   Cayman Islands  United Kingdom  19.3133 -81.2546      0\n",
       "2020-01-22  Channel Islands  United Kingdom  49.3723  -2.3644      0\n",
       "2020-01-22        Gibraltar  United Kingdom  36.1408  -5.3536      0\n",
       "2020-01-22      Isle of Man  United Kingdom  54.2361  -4.5481      0\n",
       "...                     ...             ...      ...      ...    ...\n",
       "2020-03-25  Channel Islands  United Kingdom  49.3723  -2.3644     46\n",
       "2020-03-25        Gibraltar  United Kingdom  36.1408  -5.3536     26\n",
       "2020-03-25      Isle of Man  United Kingdom  54.2361  -4.5481     23\n",
       "2020-03-25       Montserrat  United Kingdom  16.7425 -62.1874      1\n",
       "2020-03-25              NaN  United Kingdom  55.3781  -3.4360   9529\n",
       "\n",
       "[448 rows x 5 columns]"
      ]
     },
     "execution_count": 23,
     "metadata": {},
     "output_type": "execute_result"
    }
   ],
   "source": [
    "df_confirmed[df_confirmed['Country/Region'] == 'United Kingdom']"
   ]
  },
  {
   "cell_type": "code",
   "execution_count": 24,
   "metadata": {},
   "outputs": [
    {
     "data": {
      "text/html": [
       "<div>\n",
       "<style scoped>\n",
       "    .dataframe tbody tr th:only-of-type {\n",
       "        vertical-align: middle;\n",
       "    }\n",
       "\n",
       "    .dataframe tbody tr th {\n",
       "        vertical-align: top;\n",
       "    }\n",
       "\n",
       "    .dataframe thead th {\n",
       "        text-align: right;\n",
       "    }\n",
       "</style>\n",
       "<table border=\"1\" class=\"dataframe\">\n",
       "  <thead>\n",
       "    <tr style=\"text-align: right;\">\n",
       "      <th></th>\n",
       "      <th>Province/State</th>\n",
       "      <th>Country/Region</th>\n",
       "      <th>Lat</th>\n",
       "      <th>Long</th>\n",
       "      <th>Cases</th>\n",
       "    </tr>\n",
       "    <tr>\n",
       "      <th>Date</th>\n",
       "      <th></th>\n",
       "      <th></th>\n",
       "      <th></th>\n",
       "      <th></th>\n",
       "      <th></th>\n",
       "    </tr>\n",
       "  </thead>\n",
       "  <tbody>\n",
       "    <tr>\n",
       "      <th>2020-01-22</th>\n",
       "      <td>NaN</td>\n",
       "      <td>US</td>\n",
       "      <td>37.0902</td>\n",
       "      <td>-95.7129</td>\n",
       "      <td>1</td>\n",
       "    </tr>\n",
       "    <tr>\n",
       "      <th>2020-01-23</th>\n",
       "      <td>NaN</td>\n",
       "      <td>US</td>\n",
       "      <td>37.0902</td>\n",
       "      <td>-95.7129</td>\n",
       "      <td>1</td>\n",
       "    </tr>\n",
       "    <tr>\n",
       "      <th>2020-01-24</th>\n",
       "      <td>NaN</td>\n",
       "      <td>US</td>\n",
       "      <td>37.0902</td>\n",
       "      <td>-95.7129</td>\n",
       "      <td>2</td>\n",
       "    </tr>\n",
       "    <tr>\n",
       "      <th>2020-01-25</th>\n",
       "      <td>NaN</td>\n",
       "      <td>US</td>\n",
       "      <td>37.0902</td>\n",
       "      <td>-95.7129</td>\n",
       "      <td>2</td>\n",
       "    </tr>\n",
       "    <tr>\n",
       "      <th>2020-01-26</th>\n",
       "      <td>NaN</td>\n",
       "      <td>US</td>\n",
       "      <td>37.0902</td>\n",
       "      <td>-95.7129</td>\n",
       "      <td>5</td>\n",
       "    </tr>\n",
       "    <tr>\n",
       "      <th>...</th>\n",
       "      <td>...</td>\n",
       "      <td>...</td>\n",
       "      <td>...</td>\n",
       "      <td>...</td>\n",
       "      <td>...</td>\n",
       "    </tr>\n",
       "    <tr>\n",
       "      <th>2020-03-21</th>\n",
       "      <td>NaN</td>\n",
       "      <td>US</td>\n",
       "      <td>37.0902</td>\n",
       "      <td>-95.7129</td>\n",
       "      <td>25489</td>\n",
       "    </tr>\n",
       "    <tr>\n",
       "      <th>2020-03-22</th>\n",
       "      <td>NaN</td>\n",
       "      <td>US</td>\n",
       "      <td>37.0902</td>\n",
       "      <td>-95.7129</td>\n",
       "      <td>33276</td>\n",
       "    </tr>\n",
       "    <tr>\n",
       "      <th>2020-03-23</th>\n",
       "      <td>NaN</td>\n",
       "      <td>US</td>\n",
       "      <td>37.0902</td>\n",
       "      <td>-95.7129</td>\n",
       "      <td>43847</td>\n",
       "    </tr>\n",
       "    <tr>\n",
       "      <th>2020-03-24</th>\n",
       "      <td>NaN</td>\n",
       "      <td>US</td>\n",
       "      <td>37.0902</td>\n",
       "      <td>-95.7129</td>\n",
       "      <td>53740</td>\n",
       "    </tr>\n",
       "    <tr>\n",
       "      <th>2020-03-25</th>\n",
       "      <td>NaN</td>\n",
       "      <td>US</td>\n",
       "      <td>37.0902</td>\n",
       "      <td>-95.7129</td>\n",
       "      <td>65778</td>\n",
       "    </tr>\n",
       "  </tbody>\n",
       "</table>\n",
       "<p>64 rows × 5 columns</p>\n",
       "</div>"
      ],
      "text/plain": [
       "           Province/State Country/Region      Lat     Long  Cases\n",
       "Date                                                             \n",
       "2020-01-22            NaN             US  37.0902 -95.7129      1\n",
       "2020-01-23            NaN             US  37.0902 -95.7129      1\n",
       "2020-01-24            NaN             US  37.0902 -95.7129      2\n",
       "2020-01-25            NaN             US  37.0902 -95.7129      2\n",
       "2020-01-26            NaN             US  37.0902 -95.7129      5\n",
       "...                   ...            ...      ...      ...    ...\n",
       "2020-03-21            NaN             US  37.0902 -95.7129  25489\n",
       "2020-03-22            NaN             US  37.0902 -95.7129  33276\n",
       "2020-03-23            NaN             US  37.0902 -95.7129  43847\n",
       "2020-03-24            NaN             US  37.0902 -95.7129  53740\n",
       "2020-03-25            NaN             US  37.0902 -95.7129  65778\n",
       "\n",
       "[64 rows x 5 columns]"
      ]
     },
     "execution_count": 24,
     "metadata": {},
     "output_type": "execute_result"
    }
   ],
   "source": [
    "df_confirmed_us = df_confirmed[df_confirmed['Country/Region'] == 'US']\n",
    "df_confirmed_us"
   ]
  },
  {
   "cell_type": "code",
   "execution_count": 25,
   "metadata": {},
   "outputs": [
    {
     "data": {
      "text/html": [
       "<div>\n",
       "<style scoped>\n",
       "    .dataframe tbody tr th:only-of-type {\n",
       "        vertical-align: middle;\n",
       "    }\n",
       "\n",
       "    .dataframe tbody tr th {\n",
       "        vertical-align: top;\n",
       "    }\n",
       "\n",
       "    .dataframe thead th {\n",
       "        text-align: right;\n",
       "    }\n",
       "</style>\n",
       "<table border=\"1\" class=\"dataframe\">\n",
       "  <thead>\n",
       "    <tr style=\"text-align: right;\">\n",
       "      <th></th>\n",
       "      <th>Cases</th>\n",
       "      <th>Country/Region</th>\n",
       "    </tr>\n",
       "    <tr>\n",
       "      <th>Date</th>\n",
       "      <th></th>\n",
       "      <th></th>\n",
       "    </tr>\n",
       "  </thead>\n",
       "  <tbody>\n",
       "    <tr>\n",
       "      <th>2020-01-22</th>\n",
       "      <td>1</td>\n",
       "      <td>US Total</td>\n",
       "    </tr>\n",
       "    <tr>\n",
       "      <th>2020-01-23</th>\n",
       "      <td>1</td>\n",
       "      <td>US Total</td>\n",
       "    </tr>\n",
       "    <tr>\n",
       "      <th>2020-01-24</th>\n",
       "      <td>2</td>\n",
       "      <td>US Total</td>\n",
       "    </tr>\n",
       "    <tr>\n",
       "      <th>2020-01-25</th>\n",
       "      <td>2</td>\n",
       "      <td>US Total</td>\n",
       "    </tr>\n",
       "    <tr>\n",
       "      <th>2020-01-26</th>\n",
       "      <td>5</td>\n",
       "      <td>US Total</td>\n",
       "    </tr>\n",
       "    <tr>\n",
       "      <th>2020-01-27</th>\n",
       "      <td>5</td>\n",
       "      <td>US Total</td>\n",
       "    </tr>\n",
       "    <tr>\n",
       "      <th>2020-01-28</th>\n",
       "      <td>5</td>\n",
       "      <td>US Total</td>\n",
       "    </tr>\n",
       "    <tr>\n",
       "      <th>2020-01-29</th>\n",
       "      <td>5</td>\n",
       "      <td>US Total</td>\n",
       "    </tr>\n",
       "    <tr>\n",
       "      <th>2020-01-30</th>\n",
       "      <td>5</td>\n",
       "      <td>US Total</td>\n",
       "    </tr>\n",
       "    <tr>\n",
       "      <th>2020-01-31</th>\n",
       "      <td>7</td>\n",
       "      <td>US Total</td>\n",
       "    </tr>\n",
       "    <tr>\n",
       "      <th>2020-02-01</th>\n",
       "      <td>8</td>\n",
       "      <td>US Total</td>\n",
       "    </tr>\n",
       "    <tr>\n",
       "      <th>2020-02-02</th>\n",
       "      <td>8</td>\n",
       "      <td>US Total</td>\n",
       "    </tr>\n",
       "    <tr>\n",
       "      <th>2020-02-03</th>\n",
       "      <td>11</td>\n",
       "      <td>US Total</td>\n",
       "    </tr>\n",
       "    <tr>\n",
       "      <th>2020-02-04</th>\n",
       "      <td>11</td>\n",
       "      <td>US Total</td>\n",
       "    </tr>\n",
       "    <tr>\n",
       "      <th>2020-02-05</th>\n",
       "      <td>11</td>\n",
       "      <td>US Total</td>\n",
       "    </tr>\n",
       "    <tr>\n",
       "      <th>2020-02-06</th>\n",
       "      <td>11</td>\n",
       "      <td>US Total</td>\n",
       "    </tr>\n",
       "    <tr>\n",
       "      <th>2020-02-07</th>\n",
       "      <td>11</td>\n",
       "      <td>US Total</td>\n",
       "    </tr>\n",
       "    <tr>\n",
       "      <th>2020-02-08</th>\n",
       "      <td>11</td>\n",
       "      <td>US Total</td>\n",
       "    </tr>\n",
       "    <tr>\n",
       "      <th>2020-02-09</th>\n",
       "      <td>11</td>\n",
       "      <td>US Total</td>\n",
       "    </tr>\n",
       "    <tr>\n",
       "      <th>2020-02-10</th>\n",
       "      <td>11</td>\n",
       "      <td>US Total</td>\n",
       "    </tr>\n",
       "  </tbody>\n",
       "</table>\n",
       "</div>"
      ],
      "text/plain": [
       "            Cases Country/Region\n",
       "Date                            \n",
       "2020-01-22      1       US Total\n",
       "2020-01-23      1       US Total\n",
       "2020-01-24      2       US Total\n",
       "2020-01-25      2       US Total\n",
       "2020-01-26      5       US Total\n",
       "2020-01-27      5       US Total\n",
       "2020-01-28      5       US Total\n",
       "2020-01-29      5       US Total\n",
       "2020-01-30      5       US Total\n",
       "2020-01-31      7       US Total\n",
       "2020-02-01      8       US Total\n",
       "2020-02-02      8       US Total\n",
       "2020-02-03     11       US Total\n",
       "2020-02-04     11       US Total\n",
       "2020-02-05     11       US Total\n",
       "2020-02-06     11       US Total\n",
       "2020-02-07     11       US Total\n",
       "2020-02-08     11       US Total\n",
       "2020-02-09     11       US Total\n",
       "2020-02-10     11       US Total"
      ]
     },
     "execution_count": 25,
     "metadata": {},
     "output_type": "execute_result"
    }
   ],
   "source": [
    "df_confirmed_us_total = pd.DataFrame(df_confirmed_us.groupby(df_confirmed_us.index)['Cases'].sum(), columns=['Cases'])\n",
    "df_confirmed_us_total['Country/Region'] = 'US Total'\n",
    "df_confirmed_us_total[:20]"
   ]
  },
  {
   "cell_type": "code",
   "execution_count": 27,
   "metadata": {},
   "outputs": [
    {
     "data": {
      "text/html": [
       "<div>\n",
       "<style scoped>\n",
       "    .dataframe tbody tr th:only-of-type {\n",
       "        vertical-align: middle;\n",
       "    }\n",
       "\n",
       "    .dataframe tbody tr th {\n",
       "        vertical-align: top;\n",
       "    }\n",
       "\n",
       "    .dataframe thead th {\n",
       "        text-align: right;\n",
       "    }\n",
       "</style>\n",
       "<table border=\"1\" class=\"dataframe\">\n",
       "  <thead>\n",
       "    <tr style=\"text-align: right;\">\n",
       "      <th></th>\n",
       "      <th>Cases</th>\n",
       "      <th>Country/Region</th>\n",
       "      <th>Lat</th>\n",
       "      <th>Long</th>\n",
       "      <th>Province/State</th>\n",
       "    </tr>\n",
       "    <tr>\n",
       "      <th>Date</th>\n",
       "      <th></th>\n",
       "      <th></th>\n",
       "      <th></th>\n",
       "      <th></th>\n",
       "      <th></th>\n",
       "    </tr>\n",
       "  </thead>\n",
       "  <tbody>\n",
       "    <tr>\n",
       "      <th>2020-01-22</th>\n",
       "      <td>0</td>\n",
       "      <td>Afghanistan</td>\n",
       "      <td>33.0000</td>\n",
       "      <td>65.0000</td>\n",
       "      <td>NaN</td>\n",
       "    </tr>\n",
       "    <tr>\n",
       "      <th>2020-01-22</th>\n",
       "      <td>0</td>\n",
       "      <td>Albania</td>\n",
       "      <td>41.1533</td>\n",
       "      <td>20.1683</td>\n",
       "      <td>NaN</td>\n",
       "    </tr>\n",
       "    <tr>\n",
       "      <th>2020-01-22</th>\n",
       "      <td>0</td>\n",
       "      <td>Algeria</td>\n",
       "      <td>28.0339</td>\n",
       "      <td>1.6596</td>\n",
       "      <td>NaN</td>\n",
       "    </tr>\n",
       "    <tr>\n",
       "      <th>2020-01-22</th>\n",
       "      <td>0</td>\n",
       "      <td>Andorra</td>\n",
       "      <td>42.5063</td>\n",
       "      <td>1.5218</td>\n",
       "      <td>NaN</td>\n",
       "    </tr>\n",
       "    <tr>\n",
       "      <th>2020-01-22</th>\n",
       "      <td>0</td>\n",
       "      <td>Angola</td>\n",
       "      <td>-11.2027</td>\n",
       "      <td>17.8739</td>\n",
       "      <td>NaN</td>\n",
       "    </tr>\n",
       "    <tr>\n",
       "      <th>...</th>\n",
       "      <td>...</td>\n",
       "      <td>...</td>\n",
       "      <td>...</td>\n",
       "      <td>...</td>\n",
       "      <td>...</td>\n",
       "    </tr>\n",
       "    <tr>\n",
       "      <th>2020-03-21</th>\n",
       "      <td>25489</td>\n",
       "      <td>US Total</td>\n",
       "      <td>NaN</td>\n",
       "      <td>NaN</td>\n",
       "      <td>NaN</td>\n",
       "    </tr>\n",
       "    <tr>\n",
       "      <th>2020-03-22</th>\n",
       "      <td>33276</td>\n",
       "      <td>US Total</td>\n",
       "      <td>NaN</td>\n",
       "      <td>NaN</td>\n",
       "      <td>NaN</td>\n",
       "    </tr>\n",
       "    <tr>\n",
       "      <th>2020-03-23</th>\n",
       "      <td>43847</td>\n",
       "      <td>US Total</td>\n",
       "      <td>NaN</td>\n",
       "      <td>NaN</td>\n",
       "      <td>NaN</td>\n",
       "    </tr>\n",
       "    <tr>\n",
       "      <th>2020-03-24</th>\n",
       "      <td>53740</td>\n",
       "      <td>US Total</td>\n",
       "      <td>NaN</td>\n",
       "      <td>NaN</td>\n",
       "      <td>NaN</td>\n",
       "    </tr>\n",
       "    <tr>\n",
       "      <th>2020-03-25</th>\n",
       "      <td>65778</td>\n",
       "      <td>US Total</td>\n",
       "      <td>NaN</td>\n",
       "      <td>NaN</td>\n",
       "      <td>NaN</td>\n",
       "    </tr>\n",
       "  </tbody>\n",
       "</table>\n",
       "<p>15808 rows × 5 columns</p>\n",
       "</div>"
      ],
      "text/plain": [
       "            Cases Country/Region      Lat     Long Province/State\n",
       "Date                                                             \n",
       "2020-01-22      0    Afghanistan  33.0000  65.0000            NaN\n",
       "2020-01-22      0        Albania  41.1533  20.1683            NaN\n",
       "2020-01-22      0        Algeria  28.0339   1.6596            NaN\n",
       "2020-01-22      0        Andorra  42.5063   1.5218            NaN\n",
       "2020-01-22      0         Angola -11.2027  17.8739            NaN\n",
       "...           ...            ...      ...      ...            ...\n",
       "2020-03-21  25489       US Total      NaN      NaN            NaN\n",
       "2020-03-22  33276       US Total      NaN      NaN            NaN\n",
       "2020-03-23  43847       US Total      NaN      NaN            NaN\n",
       "2020-03-24  53740       US Total      NaN      NaN            NaN\n",
       "2020-03-25  65778       US Total      NaN      NaN            NaN\n",
       "\n",
       "[15808 rows x 5 columns]"
      ]
     },
     "execution_count": 27,
     "metadata": {},
     "output_type": "execute_result"
    }
   ],
   "source": [
    "df_confirmed = df_confirmed.append(df_confirmed_us_total, sort=False)\n",
    "df_confirmed"
   ]
  },
  {
   "cell_type": "markdown",
   "metadata": {},
   "source": [
    "#### China Total"
   ]
  },
  {
   "cell_type": "code",
   "execution_count": 28,
   "metadata": {},
   "outputs": [
    {
     "data": {
      "text/html": [
       "<div>\n",
       "<style scoped>\n",
       "    .dataframe tbody tr th:only-of-type {\n",
       "        vertical-align: middle;\n",
       "    }\n",
       "\n",
       "    .dataframe tbody tr th {\n",
       "        vertical-align: top;\n",
       "    }\n",
       "\n",
       "    .dataframe thead th {\n",
       "        text-align: right;\n",
       "    }\n",
       "</style>\n",
       "<table border=\"1\" class=\"dataframe\">\n",
       "  <thead>\n",
       "    <tr style=\"text-align: right;\">\n",
       "      <th></th>\n",
       "      <th>Cases</th>\n",
       "      <th>Country/Region</th>\n",
       "      <th>Lat</th>\n",
       "      <th>Long</th>\n",
       "      <th>Province/State</th>\n",
       "    </tr>\n",
       "    <tr>\n",
       "      <th>Date</th>\n",
       "      <th></th>\n",
       "      <th></th>\n",
       "      <th></th>\n",
       "      <th></th>\n",
       "      <th></th>\n",
       "    </tr>\n",
       "  </thead>\n",
       "  <tbody>\n",
       "    <tr>\n",
       "      <th>2020-01-22</th>\n",
       "      <td>1</td>\n",
       "      <td>China</td>\n",
       "      <td>31.8257</td>\n",
       "      <td>117.2264</td>\n",
       "      <td>Anhui</td>\n",
       "    </tr>\n",
       "    <tr>\n",
       "      <th>2020-01-22</th>\n",
       "      <td>14</td>\n",
       "      <td>China</td>\n",
       "      <td>40.1824</td>\n",
       "      <td>116.4142</td>\n",
       "      <td>Beijing</td>\n",
       "    </tr>\n",
       "    <tr>\n",
       "      <th>2020-01-22</th>\n",
       "      <td>6</td>\n",
       "      <td>China</td>\n",
       "      <td>30.0572</td>\n",
       "      <td>107.8740</td>\n",
       "      <td>Chongqing</td>\n",
       "    </tr>\n",
       "    <tr>\n",
       "      <th>2020-01-22</th>\n",
       "      <td>1</td>\n",
       "      <td>China</td>\n",
       "      <td>26.0789</td>\n",
       "      <td>117.9874</td>\n",
       "      <td>Fujian</td>\n",
       "    </tr>\n",
       "    <tr>\n",
       "      <th>2020-01-22</th>\n",
       "      <td>0</td>\n",
       "      <td>China</td>\n",
       "      <td>37.8099</td>\n",
       "      <td>101.0583</td>\n",
       "      <td>Gansu</td>\n",
       "    </tr>\n",
       "    <tr>\n",
       "      <th>...</th>\n",
       "      <td>...</td>\n",
       "      <td>...</td>\n",
       "      <td>...</td>\n",
       "      <td>...</td>\n",
       "      <td>...</td>\n",
       "    </tr>\n",
       "    <tr>\n",
       "      <th>2020-03-25</th>\n",
       "      <td>145</td>\n",
       "      <td>China</td>\n",
       "      <td>39.3054</td>\n",
       "      <td>117.3230</td>\n",
       "      <td>Tianjin</td>\n",
       "    </tr>\n",
       "    <tr>\n",
       "      <th>2020-03-25</th>\n",
       "      <td>1</td>\n",
       "      <td>China</td>\n",
       "      <td>31.6927</td>\n",
       "      <td>88.0924</td>\n",
       "      <td>Tibet</td>\n",
       "    </tr>\n",
       "    <tr>\n",
       "      <th>2020-03-25</th>\n",
       "      <td>76</td>\n",
       "      <td>China</td>\n",
       "      <td>41.1129</td>\n",
       "      <td>85.2401</td>\n",
       "      <td>Xinjiang</td>\n",
       "    </tr>\n",
       "    <tr>\n",
       "      <th>2020-03-25</th>\n",
       "      <td>176</td>\n",
       "      <td>China</td>\n",
       "      <td>24.9740</td>\n",
       "      <td>101.4870</td>\n",
       "      <td>Yunnan</td>\n",
       "    </tr>\n",
       "    <tr>\n",
       "      <th>2020-03-25</th>\n",
       "      <td>1241</td>\n",
       "      <td>China</td>\n",
       "      <td>29.1832</td>\n",
       "      <td>120.0934</td>\n",
       "      <td>Zhejiang</td>\n",
       "    </tr>\n",
       "  </tbody>\n",
       "</table>\n",
       "<p>2112 rows × 5 columns</p>\n",
       "</div>"
      ],
      "text/plain": [
       "            Cases Country/Region      Lat      Long Province/State\n",
       "Date                                                              \n",
       "2020-01-22      1          China  31.8257  117.2264          Anhui\n",
       "2020-01-22     14          China  40.1824  116.4142        Beijing\n",
       "2020-01-22      6          China  30.0572  107.8740      Chongqing\n",
       "2020-01-22      1          China  26.0789  117.9874         Fujian\n",
       "2020-01-22      0          China  37.8099  101.0583          Gansu\n",
       "...           ...            ...      ...       ...            ...\n",
       "2020-03-25    145          China  39.3054  117.3230        Tianjin\n",
       "2020-03-25      1          China  31.6927   88.0924          Tibet\n",
       "2020-03-25     76          China  41.1129   85.2401       Xinjiang\n",
       "2020-03-25    176          China  24.9740  101.4870         Yunnan\n",
       "2020-03-25   1241          China  29.1832  120.0934       Zhejiang\n",
       "\n",
       "[2112 rows x 5 columns]"
      ]
     },
     "execution_count": 28,
     "metadata": {},
     "output_type": "execute_result"
    }
   ],
   "source": [
    "df_confirmed_china = df_confirmed[df_confirmed['Country/Region'] == 'China']\n",
    "df_confirmed_china"
   ]
  },
  {
   "cell_type": "code",
   "execution_count": 29,
   "metadata": {},
   "outputs": [
    {
     "data": {
      "text/html": [
       "<div>\n",
       "<style scoped>\n",
       "    .dataframe tbody tr th:only-of-type {\n",
       "        vertical-align: middle;\n",
       "    }\n",
       "\n",
       "    .dataframe tbody tr th {\n",
       "        vertical-align: top;\n",
       "    }\n",
       "\n",
       "    .dataframe thead th {\n",
       "        text-align: right;\n",
       "    }\n",
       "</style>\n",
       "<table border=\"1\" class=\"dataframe\">\n",
       "  <thead>\n",
       "    <tr style=\"text-align: right;\">\n",
       "      <th></th>\n",
       "      <th>Cases</th>\n",
       "      <th>Country/Region</th>\n",
       "    </tr>\n",
       "    <tr>\n",
       "      <th>Date</th>\n",
       "      <th></th>\n",
       "      <th></th>\n",
       "    </tr>\n",
       "  </thead>\n",
       "  <tbody>\n",
       "    <tr>\n",
       "      <th>2020-01-22</th>\n",
       "      <td>548</td>\n",
       "      <td>China Total</td>\n",
       "    </tr>\n",
       "    <tr>\n",
       "      <th>2020-01-23</th>\n",
       "      <td>643</td>\n",
       "      <td>China Total</td>\n",
       "    </tr>\n",
       "    <tr>\n",
       "      <th>2020-01-24</th>\n",
       "      <td>920</td>\n",
       "      <td>China Total</td>\n",
       "    </tr>\n",
       "    <tr>\n",
       "      <th>2020-01-25</th>\n",
       "      <td>1406</td>\n",
       "      <td>China Total</td>\n",
       "    </tr>\n",
       "    <tr>\n",
       "      <th>2020-01-26</th>\n",
       "      <td>2075</td>\n",
       "      <td>China Total</td>\n",
       "    </tr>\n",
       "    <tr>\n",
       "      <th>2020-01-27</th>\n",
       "      <td>2877</td>\n",
       "      <td>China Total</td>\n",
       "    </tr>\n",
       "    <tr>\n",
       "      <th>2020-01-28</th>\n",
       "      <td>5509</td>\n",
       "      <td>China Total</td>\n",
       "    </tr>\n",
       "    <tr>\n",
       "      <th>2020-01-29</th>\n",
       "      <td>6087</td>\n",
       "      <td>China Total</td>\n",
       "    </tr>\n",
       "    <tr>\n",
       "      <th>2020-01-30</th>\n",
       "      <td>8141</td>\n",
       "      <td>China Total</td>\n",
       "    </tr>\n",
       "    <tr>\n",
       "      <th>2020-01-31</th>\n",
       "      <td>9802</td>\n",
       "      <td>China Total</td>\n",
       "    </tr>\n",
       "    <tr>\n",
       "      <th>2020-02-01</th>\n",
       "      <td>11891</td>\n",
       "      <td>China Total</td>\n",
       "    </tr>\n",
       "    <tr>\n",
       "      <th>2020-02-02</th>\n",
       "      <td>16630</td>\n",
       "      <td>China Total</td>\n",
       "    </tr>\n",
       "    <tr>\n",
       "      <th>2020-02-03</th>\n",
       "      <td>19716</td>\n",
       "      <td>China Total</td>\n",
       "    </tr>\n",
       "    <tr>\n",
       "      <th>2020-02-04</th>\n",
       "      <td>23707</td>\n",
       "      <td>China Total</td>\n",
       "    </tr>\n",
       "    <tr>\n",
       "      <th>2020-02-05</th>\n",
       "      <td>27440</td>\n",
       "      <td>China Total</td>\n",
       "    </tr>\n",
       "    <tr>\n",
       "      <th>2020-02-06</th>\n",
       "      <td>30587</td>\n",
       "      <td>China Total</td>\n",
       "    </tr>\n",
       "    <tr>\n",
       "      <th>2020-02-07</th>\n",
       "      <td>34110</td>\n",
       "      <td>China Total</td>\n",
       "    </tr>\n",
       "    <tr>\n",
       "      <th>2020-02-08</th>\n",
       "      <td>36814</td>\n",
       "      <td>China Total</td>\n",
       "    </tr>\n",
       "    <tr>\n",
       "      <th>2020-02-09</th>\n",
       "      <td>39829</td>\n",
       "      <td>China Total</td>\n",
       "    </tr>\n",
       "    <tr>\n",
       "      <th>2020-02-10</th>\n",
       "      <td>42354</td>\n",
       "      <td>China Total</td>\n",
       "    </tr>\n",
       "  </tbody>\n",
       "</table>\n",
       "</div>"
      ],
      "text/plain": [
       "            Cases Country/Region\n",
       "Date                            \n",
       "2020-01-22    548    China Total\n",
       "2020-01-23    643    China Total\n",
       "2020-01-24    920    China Total\n",
       "2020-01-25   1406    China Total\n",
       "2020-01-26   2075    China Total\n",
       "2020-01-27   2877    China Total\n",
       "2020-01-28   5509    China Total\n",
       "2020-01-29   6087    China Total\n",
       "2020-01-30   8141    China Total\n",
       "2020-01-31   9802    China Total\n",
       "2020-02-01  11891    China Total\n",
       "2020-02-02  16630    China Total\n",
       "2020-02-03  19716    China Total\n",
       "2020-02-04  23707    China Total\n",
       "2020-02-05  27440    China Total\n",
       "2020-02-06  30587    China Total\n",
       "2020-02-07  34110    China Total\n",
       "2020-02-08  36814    China Total\n",
       "2020-02-09  39829    China Total\n",
       "2020-02-10  42354    China Total"
      ]
     },
     "execution_count": 29,
     "metadata": {},
     "output_type": "execute_result"
    }
   ],
   "source": [
    "df_confirmed_china_total = pd.DataFrame(df_confirmed_china.groupby(df_confirmed_china.index)['Cases'].sum(), columns=['Cases'])\n",
    "df_confirmed_china_total['Country/Region'] = 'China Total'\n",
    "df_confirmed_china_total[:20]"
   ]
  },
  {
   "cell_type": "code",
   "execution_count": 30,
   "metadata": {},
   "outputs": [
    {
     "data": {
      "text/html": [
       "<div>\n",
       "<style scoped>\n",
       "    .dataframe tbody tr th:only-of-type {\n",
       "        vertical-align: middle;\n",
       "    }\n",
       "\n",
       "    .dataframe tbody tr th {\n",
       "        vertical-align: top;\n",
       "    }\n",
       "\n",
       "    .dataframe thead th {\n",
       "        text-align: right;\n",
       "    }\n",
       "</style>\n",
       "<table border=\"1\" class=\"dataframe\">\n",
       "  <thead>\n",
       "    <tr style=\"text-align: right;\">\n",
       "      <th></th>\n",
       "      <th>Cases</th>\n",
       "      <th>Country/Region</th>\n",
       "      <th>Lat</th>\n",
       "      <th>Long</th>\n",
       "      <th>Province/State</th>\n",
       "    </tr>\n",
       "    <tr>\n",
       "      <th>Date</th>\n",
       "      <th></th>\n",
       "      <th></th>\n",
       "      <th></th>\n",
       "      <th></th>\n",
       "      <th></th>\n",
       "    </tr>\n",
       "  </thead>\n",
       "  <tbody>\n",
       "    <tr>\n",
       "      <th>2020-01-22</th>\n",
       "      <td>0</td>\n",
       "      <td>Afghanistan</td>\n",
       "      <td>33.0000</td>\n",
       "      <td>65.0000</td>\n",
       "      <td>NaN</td>\n",
       "    </tr>\n",
       "    <tr>\n",
       "      <th>2020-01-22</th>\n",
       "      <td>0</td>\n",
       "      <td>Albania</td>\n",
       "      <td>41.1533</td>\n",
       "      <td>20.1683</td>\n",
       "      <td>NaN</td>\n",
       "    </tr>\n",
       "    <tr>\n",
       "      <th>2020-01-22</th>\n",
       "      <td>0</td>\n",
       "      <td>Algeria</td>\n",
       "      <td>28.0339</td>\n",
       "      <td>1.6596</td>\n",
       "      <td>NaN</td>\n",
       "    </tr>\n",
       "    <tr>\n",
       "      <th>2020-01-22</th>\n",
       "      <td>0</td>\n",
       "      <td>Andorra</td>\n",
       "      <td>42.5063</td>\n",
       "      <td>1.5218</td>\n",
       "      <td>NaN</td>\n",
       "    </tr>\n",
       "    <tr>\n",
       "      <th>2020-01-22</th>\n",
       "      <td>0</td>\n",
       "      <td>Angola</td>\n",
       "      <td>-11.2027</td>\n",
       "      <td>17.8739</td>\n",
       "      <td>NaN</td>\n",
       "    </tr>\n",
       "    <tr>\n",
       "      <th>...</th>\n",
       "      <td>...</td>\n",
       "      <td>...</td>\n",
       "      <td>...</td>\n",
       "      <td>...</td>\n",
       "      <td>...</td>\n",
       "    </tr>\n",
       "    <tr>\n",
       "      <th>2020-03-21</th>\n",
       "      <td>81305</td>\n",
       "      <td>China Total</td>\n",
       "      <td>NaN</td>\n",
       "      <td>NaN</td>\n",
       "      <td>NaN</td>\n",
       "    </tr>\n",
       "    <tr>\n",
       "      <th>2020-03-22</th>\n",
       "      <td>81435</td>\n",
       "      <td>China Total</td>\n",
       "      <td>NaN</td>\n",
       "      <td>NaN</td>\n",
       "      <td>NaN</td>\n",
       "    </tr>\n",
       "    <tr>\n",
       "      <th>2020-03-23</th>\n",
       "      <td>81498</td>\n",
       "      <td>China Total</td>\n",
       "      <td>NaN</td>\n",
       "      <td>NaN</td>\n",
       "      <td>NaN</td>\n",
       "    </tr>\n",
       "    <tr>\n",
       "      <th>2020-03-24</th>\n",
       "      <td>81591</td>\n",
       "      <td>China Total</td>\n",
       "      <td>NaN</td>\n",
       "      <td>NaN</td>\n",
       "      <td>NaN</td>\n",
       "    </tr>\n",
       "    <tr>\n",
       "      <th>2020-03-25</th>\n",
       "      <td>81661</td>\n",
       "      <td>China Total</td>\n",
       "      <td>NaN</td>\n",
       "      <td>NaN</td>\n",
       "      <td>NaN</td>\n",
       "    </tr>\n",
       "  </tbody>\n",
       "</table>\n",
       "<p>15872 rows × 5 columns</p>\n",
       "</div>"
      ],
      "text/plain": [
       "            Cases Country/Region      Lat     Long Province/State\n",
       "Date                                                             \n",
       "2020-01-22      0    Afghanistan  33.0000  65.0000            NaN\n",
       "2020-01-22      0        Albania  41.1533  20.1683            NaN\n",
       "2020-01-22      0        Algeria  28.0339   1.6596            NaN\n",
       "2020-01-22      0        Andorra  42.5063   1.5218            NaN\n",
       "2020-01-22      0         Angola -11.2027  17.8739            NaN\n",
       "...           ...            ...      ...      ...            ...\n",
       "2020-03-21  81305    China Total      NaN      NaN            NaN\n",
       "2020-03-22  81435    China Total      NaN      NaN            NaN\n",
       "2020-03-23  81498    China Total      NaN      NaN            NaN\n",
       "2020-03-24  81591    China Total      NaN      NaN            NaN\n",
       "2020-03-25  81661    China Total      NaN      NaN            NaN\n",
       "\n",
       "[15872 rows x 5 columns]"
      ]
     },
     "execution_count": 30,
     "metadata": {},
     "output_type": "execute_result"
    }
   ],
   "source": [
    "df_confirmed = df_confirmed.append(df_confirmed_china_total)\n",
    "df_confirmed"
   ]
  },
  {
   "cell_type": "markdown",
   "metadata": {},
   "source": [
    "Cap date range to today to eliminate spurious data"
   ]
  },
  {
   "cell_type": "code",
   "execution_count": 31,
   "metadata": {},
   "outputs": [
    {
     "data": {
      "text/plain": [
       "datetime.date(2020, 3, 26)"
      ]
     },
     "execution_count": 31,
     "metadata": {},
     "output_type": "execute_result"
    }
   ],
   "source": [
    "from datetime import date\n",
    "max_date = date.today()\n",
    "max_date"
   ]
  },
  {
   "cell_type": "code",
   "execution_count": 32,
   "metadata": {},
   "outputs": [
    {
     "data": {
      "text/plain": [
       "(numpy.datetime64('2020-03-25T00:00:00.000000000'),\n",
       " numpy.datetime64('2020-01-22T00:00:00.000000000'))"
      ]
     },
     "execution_count": 32,
     "metadata": {},
     "output_type": "execute_result"
    }
   ],
   "source": [
    "df_confirmed.index.values.max(), df_confirmed.index.values.min()"
   ]
  },
  {
   "cell_type": "code",
   "execution_count": 33,
   "metadata": {},
   "outputs": [
    {
     "data": {
      "text/plain": [
       "(numpy.datetime64('2020-03-25T00:00:00.000000000'),\n",
       " numpy.datetime64('2020-01-22T00:00:00.000000000'))"
      ]
     },
     "execution_count": 33,
     "metadata": {},
     "output_type": "execute_result"
    }
   ],
   "source": [
    "df_confirmed[df_confirmed['Country/Region']=='US'].index.values.max(), df_confirmed.index.values.min()"
   ]
  },
  {
   "cell_type": "code",
   "execution_count": 34,
   "metadata": {},
   "outputs": [],
   "source": [
    "min_date_string = np.datetime_as_string(df_confirmed.index.values.min(), unit='D')\n",
    "max_date_string = np.datetime_as_string(df_confirmed.index.values.max(), unit='D')"
   ]
  },
  {
   "cell_type": "code",
   "execution_count": 35,
   "metadata": {},
   "outputs": [
    {
     "data": {
      "text/html": [
       "<div>\n",
       "<style scoped>\n",
       "    .dataframe tbody tr th:only-of-type {\n",
       "        vertical-align: middle;\n",
       "    }\n",
       "\n",
       "    .dataframe tbody tr th {\n",
       "        vertical-align: top;\n",
       "    }\n",
       "\n",
       "    .dataframe thead th {\n",
       "        text-align: right;\n",
       "    }\n",
       "</style>\n",
       "<table border=\"1\" class=\"dataframe\">\n",
       "  <thead>\n",
       "    <tr style=\"text-align: right;\">\n",
       "      <th></th>\n",
       "      <th>Cases</th>\n",
       "      <th>Country/Region</th>\n",
       "      <th>Lat</th>\n",
       "      <th>Long</th>\n",
       "      <th>Province/State</th>\n",
       "    </tr>\n",
       "    <tr>\n",
       "      <th>Date</th>\n",
       "      <th></th>\n",
       "      <th></th>\n",
       "      <th></th>\n",
       "      <th></th>\n",
       "      <th></th>\n",
       "    </tr>\n",
       "  </thead>\n",
       "  <tbody>\n",
       "    <tr>\n",
       "      <th>2020-01-22</th>\n",
       "      <td>0</td>\n",
       "      <td>Afghanistan</td>\n",
       "      <td>33.0000</td>\n",
       "      <td>65.0000</td>\n",
       "      <td>NaN</td>\n",
       "    </tr>\n",
       "    <tr>\n",
       "      <th>2020-01-22</th>\n",
       "      <td>0</td>\n",
       "      <td>Albania</td>\n",
       "      <td>41.1533</td>\n",
       "      <td>20.1683</td>\n",
       "      <td>NaN</td>\n",
       "    </tr>\n",
       "    <tr>\n",
       "      <th>2020-01-22</th>\n",
       "      <td>0</td>\n",
       "      <td>Algeria</td>\n",
       "      <td>28.0339</td>\n",
       "      <td>1.6596</td>\n",
       "      <td>NaN</td>\n",
       "    </tr>\n",
       "    <tr>\n",
       "      <th>2020-01-22</th>\n",
       "      <td>0</td>\n",
       "      <td>Andorra</td>\n",
       "      <td>42.5063</td>\n",
       "      <td>1.5218</td>\n",
       "      <td>NaN</td>\n",
       "    </tr>\n",
       "    <tr>\n",
       "      <th>2020-01-22</th>\n",
       "      <td>0</td>\n",
       "      <td>Angola</td>\n",
       "      <td>-11.2027</td>\n",
       "      <td>17.8739</td>\n",
       "      <td>NaN</td>\n",
       "    </tr>\n",
       "  </tbody>\n",
       "</table>\n",
       "</div>"
      ],
      "text/plain": [
       "            Cases Country/Region      Lat     Long Province/State\n",
       "Date                                                             \n",
       "2020-01-22      0    Afghanistan  33.0000  65.0000            NaN\n",
       "2020-01-22      0        Albania  41.1533  20.1683            NaN\n",
       "2020-01-22      0        Algeria  28.0339   1.6596            NaN\n",
       "2020-01-22      0        Andorra  42.5063   1.5218            NaN\n",
       "2020-01-22      0         Angola -11.2027  17.8739            NaN"
      ]
     },
     "execution_count": 35,
     "metadata": {},
     "output_type": "execute_result"
    }
   ],
   "source": [
    "df_confirmed.head()"
   ]
  },
  {
   "cell_type": "markdown",
   "metadata": {},
   "source": [
    "#### US Confirmed Cases\n",
    "\n",
    "Total and percent change"
   ]
  },
  {
   "cell_type": "code",
   "execution_count": 36,
   "metadata": {},
   "outputs": [],
   "source": [
    "min_cases = 50"
   ]
  },
  {
   "cell_type": "code",
   "execution_count": 37,
   "metadata": {},
   "outputs": [
    {
     "data": {
      "image/png": "[encoded data removed]",
      "text/plain": [
       "<Figure size 432x288 with 1 Axes>"
      ]
     },
     "metadata": {
      "needs_background": "light"
     },
     "output_type": "display_data"
    },
    {
     "data": {
      "image/png": "[encoded data removed]",
      "text/plain": [
       "<Figure size 432x288 with 1 Axes>"
      ]
     },
     "metadata": {
      "needs_background": "light"
     },
     "output_type": "display_data"
    }
   ],
   "source": [
    "df_country = df_confirmed.loc[(df_confirmed['Country/Region'] == 'US Total') & (df_confirmed['Cases'] >= min_cases)]\n",
    "df_country.plot(y='Cases', title='US Total Confirmed Cases')\n",
    "plt.show()\n",
    "df_country['Cases'].pct_change().to_frame('Percent Change').plot(title='US % Change Confirmed Cases', ylim=(0,1.0)); \n"
   ]
  },
  {
   "cell_type": "markdown",
   "metadata": {},
   "source": [
    "#### US Polyfit,  Median Filter,  % Change, Testing\n",
    "\n",
    "US Testing data"
   ]
  },
  {
   "cell_type": "code",
   "execution_count": 38,
   "metadata": {},
   "outputs": [
    {
     "data": {
      "text/html": [
       "<div>\n",
       "<style scoped>\n",
       "    .dataframe tbody tr th:only-of-type {\n",
       "        vertical-align: middle;\n",
       "    }\n",
       "\n",
       "    .dataframe tbody tr th {\n",
       "        vertical-align: top;\n",
       "    }\n",
       "\n",
       "    .dataframe thead th {\n",
       "        text-align: right;\n",
       "    }\n",
       "</style>\n",
       "<table border=\"1\" class=\"dataframe\">\n",
       "  <thead>\n",
       "    <tr style=\"text-align: right;\">\n",
       "      <th></th>\n",
       "      <th>states</th>\n",
       "      <th>positive</th>\n",
       "      <th>negative</th>\n",
       "      <th>posNeg</th>\n",
       "      <th>pending</th>\n",
       "      <th>death</th>\n",
       "      <th>total</th>\n",
       "    </tr>\n",
       "    <tr>\n",
       "      <th>date</th>\n",
       "      <th></th>\n",
       "      <th></th>\n",
       "      <th></th>\n",
       "      <th></th>\n",
       "      <th></th>\n",
       "      <th></th>\n",
       "      <th></th>\n",
       "    </tr>\n",
       "  </thead>\n",
       "  <tbody>\n",
       "    <tr>\n",
       "      <th>20200304</th>\n",
       "      <td>14</td>\n",
       "      <td>118</td>\n",
       "      <td>748</td>\n",
       "      <td>866</td>\n",
       "      <td>103</td>\n",
       "      <td>NaN</td>\n",
       "      <td>969</td>\n",
       "    </tr>\n",
       "    <tr>\n",
       "      <th>20200305</th>\n",
       "      <td>24</td>\n",
       "      <td>176</td>\n",
       "      <td>971</td>\n",
       "      <td>1147</td>\n",
       "      <td>197</td>\n",
       "      <td>NaN</td>\n",
       "      <td>1344</td>\n",
       "    </tr>\n",
       "    <tr>\n",
       "      <th>20200306</th>\n",
       "      <td>36</td>\n",
       "      <td>223</td>\n",
       "      <td>1617</td>\n",
       "      <td>1840</td>\n",
       "      <td>458</td>\n",
       "      <td>NaN</td>\n",
       "      <td>2298</td>\n",
       "    </tr>\n",
       "    <tr>\n",
       "      <th>20200307</th>\n",
       "      <td>51</td>\n",
       "      <td>341</td>\n",
       "      <td>1863</td>\n",
       "      <td>2204</td>\n",
       "      <td>602</td>\n",
       "      <td>NaN</td>\n",
       "      <td>2806</td>\n",
       "    </tr>\n",
       "    <tr>\n",
       "      <th>20200308</th>\n",
       "      <td>51</td>\n",
       "      <td>417</td>\n",
       "      <td>2437</td>\n",
       "      <td>2854</td>\n",
       "      <td>347</td>\n",
       "      <td>NaN</td>\n",
       "      <td>3201</td>\n",
       "    </tr>\n",
       "    <tr>\n",
       "      <th>20200309</th>\n",
       "      <td>51</td>\n",
       "      <td>584</td>\n",
       "      <td>3500</td>\n",
       "      <td>4084</td>\n",
       "      <td>313</td>\n",
       "      <td>NaN</td>\n",
       "      <td>4397</td>\n",
       "    </tr>\n",
       "    <tr>\n",
       "      <th>20200310</th>\n",
       "      <td>51</td>\n",
       "      <td>778</td>\n",
       "      <td>3807</td>\n",
       "      <td>4585</td>\n",
       "      <td>469</td>\n",
       "      <td>NaN</td>\n",
       "      <td>4889</td>\n",
       "    </tr>\n",
       "    <tr>\n",
       "      <th>20200311</th>\n",
       "      <td>51</td>\n",
       "      <td>1053</td>\n",
       "      <td>5978</td>\n",
       "      <td>7031</td>\n",
       "      <td>563</td>\n",
       "      <td>27.0</td>\n",
       "      <td>7617</td>\n",
       "    </tr>\n",
       "    <tr>\n",
       "      <th>20200312</th>\n",
       "      <td>51</td>\n",
       "      <td>1315</td>\n",
       "      <td>7950</td>\n",
       "      <td>9265</td>\n",
       "      <td>673</td>\n",
       "      <td>36.0</td>\n",
       "      <td>9873</td>\n",
       "    </tr>\n",
       "    <tr>\n",
       "      <th>20200313</th>\n",
       "      <td>51</td>\n",
       "      <td>1922</td>\n",
       "      <td>13513</td>\n",
       "      <td>15435</td>\n",
       "      <td>1130</td>\n",
       "      <td>39.0</td>\n",
       "      <td>16565</td>\n",
       "    </tr>\n",
       "    <tr>\n",
       "      <th>20200314</th>\n",
       "      <td>51</td>\n",
       "      <td>2450</td>\n",
       "      <td>17107</td>\n",
       "      <td>19557</td>\n",
       "      <td>1236</td>\n",
       "      <td>49.0</td>\n",
       "      <td>20795</td>\n",
       "    </tr>\n",
       "    <tr>\n",
       "      <th>20200315</th>\n",
       "      <td>51</td>\n",
       "      <td>3173</td>\n",
       "      <td>22548</td>\n",
       "      <td>25721</td>\n",
       "      <td>2242</td>\n",
       "      <td>60.0</td>\n",
       "      <td>27963</td>\n",
       "    </tr>\n",
       "    <tr>\n",
       "      <th>20200316</th>\n",
       "      <td>56</td>\n",
       "      <td>4019</td>\n",
       "      <td>35840</td>\n",
       "      <td>39859</td>\n",
       "      <td>1691</td>\n",
       "      <td>71.0</td>\n",
       "      <td>41550</td>\n",
       "    </tr>\n",
       "    <tr>\n",
       "      <th>20200317</th>\n",
       "      <td>56</td>\n",
       "      <td>5723</td>\n",
       "      <td>47604</td>\n",
       "      <td>53327</td>\n",
       "      <td>815</td>\n",
       "      <td>90.0</td>\n",
       "      <td>54085</td>\n",
       "    </tr>\n",
       "  </tbody>\n",
       "</table>\n",
       "</div>"
      ],
      "text/plain": [
       "          states  positive  negative  posNeg  pending  death  total\n",
       "date                                                               \n",
       "20200304      14       118       748     866      103    NaN    969\n",
       "20200305      24       176       971    1147      197    NaN   1344\n",
       "20200306      36       223      1617    1840      458    NaN   2298\n",
       "20200307      51       341      1863    2204      602    NaN   2806\n",
       "20200308      51       417      2437    2854      347    NaN   3201\n",
       "20200309      51       584      3500    4084      313    NaN   4397\n",
       "20200310      51       778      3807    4585      469    NaN   4889\n",
       "20200311      51      1053      5978    7031      563   27.0   7617\n",
       "20200312      51      1315      7950    9265      673   36.0   9873\n",
       "20200313      51      1922     13513   15435     1130   39.0  16565\n",
       "20200314      51      2450     17107   19557     1236   49.0  20795\n",
       "20200315      51      3173     22548   25721     2242   60.0  27963\n",
       "20200316      56      4019     35840   39859     1691   71.0  41550\n",
       "20200317      56      5723     47604   53327      815   90.0  54085"
      ]
     },
     "execution_count": 38,
     "metadata": {},
     "output_type": "execute_result"
    }
   ],
   "source": [
    "df_state_raw = pd.read_csv('/Users/jayurbain/Dropbox/covid19_jay/covid19/data/us-daily.csv')\n",
    "df_us_testing=df_state_raw.set_index(['date'])\n",
    "df_us_testing"
   ]
  },
  {
   "cell_type": "code",
   "execution_count": 39,
   "metadata": {},
   "outputs": [
    {
     "data": {
      "image/png": "[encoded data removed]",
      "text/plain": [
       "<Figure size 576x432 with 1 Axes>"
      ]
     },
     "metadata": {
      "needs_background": "light"
     },
     "output_type": "display_data"
    }
   ],
   "source": [
    "df_us_testing[['total','positive','negative']].plot(figsize=(8,6), title='US Covid-19 Testing');"
   ]
  },
  {
   "cell_type": "code",
   "execution_count": 40,
   "metadata": {},
   "outputs": [
    {
     "data": {
      "text/plain": [
       "poly1d([-1.32745855e-06,  1.75282782e-04, -7.56934251e-03,  1.18296908e-01,\n",
       "       -2.34485796e-01])"
      ]
     },
     "execution_count": 40,
     "metadata": {},
     "output_type": "execute_result"
    }
   ],
   "source": [
    "df = df_country['Cases'].pct_change().to_frame('Percent Change').reset_index()[1:]\n",
    "df\n",
    "x = df.index\n",
    "y = df['Percent Change']\n",
    "# print(x, y)\n",
    "z = np.polyfit(x, y, 4)\n",
    "p = np.poly1d(z)\n",
    "p"
   ]
  },
  {
   "cell_type": "code",
   "execution_count": 41,
   "metadata": {},
   "outputs": [
    {
     "data": {
      "image/png": "[encoded data removed]",
      "text/plain": [
       "<Figure size 432x288 with 1 Axes>"
      ]
     },
     "metadata": {
      "needs_background": "light"
     },
     "output_type": "display_data"
    },
    {
     "data": {
      "image/png": "[encoded data removed]",
      "text/plain": [
       "<Figure size 432x288 with 1 Axes>"
      ]
     },
     "metadata": {
      "needs_background": "light"
     },
     "output_type": "display_data"
    },
    {
     "data": {
      "image/png": "[encoded data removed]",
      "text/plain": [
       "<Figure size 432x288 with 1 Axes>"
      ]
     },
     "metadata": {
      "needs_background": "light"
     },
     "output_type": "display_data"
    }
   ],
   "source": [
    "df_country = df_confirmed.loc[(df_confirmed['Country/Region'] == 'US Total') & (df_confirmed['Cases'] >= min_cases)]\n",
    "df_country.plot(y='Cases', title='US Total Confirmed Cases')\n",
    "\n",
    "ma = y.rolling(window=3).median()\n",
    "fig, ax = plt.subplots()\n",
    "ax.set_title('Daily % Change in COVID-19 Confirmed Cases')\n",
    "ax.plot(x, y, '.b', label='Daily % Chg')\n",
    "ax.plot(x, p(x), '-r', label='Polyfit d=4')\n",
    "ax.plot(x, ma, '--g', label='Median w=3')\n",
    "leg = ax.legend(loc='upper left', frameon=True);\n",
    "plt.show()\n",
    "\n",
    "df_us_testing[['total','positive','negative']].plot(title='Total US Covid-19 Testing');\n"
   ]
  },
  {
   "cell_type": "markdown",
   "metadata": {},
   "source": [
    "#### China Confirmed Cases"
   ]
  },
  {
   "cell_type": "code",
   "execution_count": 42,
   "metadata": {},
   "outputs": [
    {
     "data": {
      "image/png": "[encoded data removed]",
      "text/plain": [
       "<Figure size 432x288 with 1 Axes>"
      ]
     },
     "metadata": {
      "needs_background": "light"
     },
     "output_type": "display_data"
    },
    {
     "data": {
      "image/png": "[encoded data removed]",
      "text/plain": [
       "<Figure size 432x288 with 1 Axes>"
      ]
     },
     "metadata": {
      "needs_background": "light"
     },
     "output_type": "display_data"
    }
   ],
   "source": [
    "df_country = df_confirmed.loc[(df_confirmed['Country/Region'] == 'China Total') & (df_confirmed['Cases'] >= min_cases)]\n",
    "df_country.plot(y='Cases', title='China Total Confirmed Cases')\n",
    "\n",
    "plt.show()\n",
    "\n",
    "df_country['Cases'].pct_change().to_frame('Percent Change').plot(title='China % Change Confirmed Cases', ylim=(0,1.0)); \n"
   ]
  },
  {
   "cell_type": "markdown",
   "metadata": {},
   "source": [
    "#### China Polyfit and Median Filter % Change"
   ]
  },
  {
   "cell_type": "code",
   "execution_count": 43,
   "metadata": {},
   "outputs": [
    {
     "data": {
      "text/plain": [
       "poly1d([-1.52702621e-07,  1.55136996e-05, -1.77190349e-04, -2.02537824e-02,\n",
       "        4.81056428e-01])"
      ]
     },
     "execution_count": 43,
     "metadata": {},
     "output_type": "execute_result"
    }
   ],
   "source": [
    "df = df_country['Cases'].pct_change().to_frame('Percent Change').reset_index()[1:]\n",
    "df\n",
    "x = df.index\n",
    "y = df['Percent Change']\n",
    "# print(x, y)\n",
    "z = np.polyfit(x, y, 4)\n",
    "p = np.poly1d(z)\n",
    "p"
   ]
  },
  {
   "cell_type": "code",
   "execution_count": 44,
   "metadata": {},
   "outputs": [
    {
     "data": {
      "image/png": "[encoded data removed]",
      "text/plain": [
       "<Figure size 432x288 with 1 Axes>"
      ]
     },
     "metadata": {
      "needs_background": "light"
     },
     "output_type": "display_data"
    },
    {
     "data": {
      "image/png": "[encoded data removed]",
      "text/plain": [
       "<Figure size 432x288 with 1 Axes>"
      ]
     },
     "metadata": {
      "needs_background": "light"
     },
     "output_type": "display_data"
    }
   ],
   "source": [
    "df_country = df_confirmed.loc[(df_confirmed['Country/Region'] == 'China Total') & (df_confirmed['Cases'] >= min_cases)]\n",
    "df_country.plot(y='Cases', title='China Total Confirmed Cases')\n",
    "\n",
    "ma = y.rolling(window=3).median()\n",
    "fig, ax = plt.subplots()\n",
    "ax.plot(x, y, '.b', label='Daily % Chg')\n",
    "ax.plot(x, p(x), '-r', label='Polyfit d=4')\n",
    "ax.plot(x, ma, '--g', label='Median w=3')\n",
    "# ax.axis('equal')\n",
    "leg = ax.legend(loc='upper left', frameon=True);"
   ]
  },
  {
   "cell_type": "markdown",
   "metadata": {},
   "source": [
    "#### South Korea Confirmed Cases"
   ]
  },
  {
   "cell_type": "code",
   "execution_count": 45,
   "metadata": {},
   "outputs": [
    {
     "data": {
      "image/png": "[encoded data removed]",
      "text/plain": [
       "<Figure size 432x288 with 1 Axes>"
      ]
     },
     "metadata": {
      "needs_background": "light"
     },
     "output_type": "display_data"
    },
    {
     "data": {
      "image/png": "[encoded data removed]",
      "text/plain": [
       "<Figure size 432x288 with 1 Axes>"
      ]
     },
     "metadata": {
      "needs_background": "light"
     },
     "output_type": "display_data"
    }
   ],
   "source": [
    "df_country = df_confirmed.loc[(df_confirmed['Country/Region'] == 'Korea, South') & (df_confirmed['Cases'] >= min_cases)]\n",
    "df_country.plot(y='Cases', title='South Korea Total Confirmed Cases')\n",
    "\n",
    "plt.show()\n",
    "\n",
    "df_country['Cases'].pct_change().to_frame('Percent Change').plot(title='South Korea % Change Confirmed Cases', ylim=(0,1.0)); \n"
   ]
  },
  {
   "cell_type": "markdown",
   "metadata": {},
   "source": [
    "#### South Korea Polyfit and Median Filter % Change"
   ]
  },
  {
   "cell_type": "code",
   "execution_count": 46,
   "metadata": {},
   "outputs": [
    {
     "data": {
      "text/plain": [
       "poly1d([ 5.94192474e-02, -4.28980949e+00,  9.09172578e+01, -1.97906901e+02,\n",
       "        3.30104548e+02])"
      ]
     },
     "execution_count": 46,
     "metadata": {},
     "output_type": "execute_result"
    }
   ],
   "source": [
    "df_country = df_confirmed.loc[(df_confirmed['Country/Region'] == 'Korea, South') & (df_confirmed['Cases'] >= min_cases)]\n",
    "\n",
    "df = df_country['Cases'].to_frame('Cases').reset_index()[1:]\n",
    "df\n",
    "x = df.index\n",
    "y = df['Cases']\n",
    "z = np.polyfit(x, y, 4)\n",
    "p = np.poly1d(z)\n",
    "p"
   ]
  },
  {
   "cell_type": "code",
   "execution_count": 47,
   "metadata": {},
   "outputs": [
    {
     "data": {
      "image/png": "[encoded data removed]",
      "text/plain": [
       "<Figure size 432x288 with 1 Axes>"
      ]
     },
     "metadata": {
      "needs_background": "light"
     },
     "output_type": "display_data"
    },
    {
     "data": {
      "image/png": "[encoded data removed]",
      "text/plain": [
       "<Figure size 432x288 with 1 Axes>"
      ]
     },
     "metadata": {
      "needs_background": "light"
     },
     "output_type": "display_data"
    }
   ],
   "source": [
    "df_country.plot(y='Cases', title='South Korea Total Confirmed Cases')\n",
    "\n",
    "ma = y.rolling(window=3).median()\n",
    "fig, ax = plt.subplots()\n",
    "plt.title('South Korea Daily Confirmed Cases')\n",
    "ax.plot(x, y, '.b', label='Confirmed')\n",
    "ax.plot(x, p(x), '-r', label='Polyfit d=4')\n",
    "ax.plot(x, ma, '--g', label='Median w=3')\n",
    "# ax.axis('equal')\n",
    "leg = ax.legend(loc='upper left', frameon=True);\n",
    "\n"
   ]
  },
  {
   "cell_type": "code",
   "execution_count": 48,
   "metadata": {},
   "outputs": [
    {
     "data": {
      "text/plain": [
       "poly1d([ 5.76394760e-06, -4.82709635e-04,  1.47652163e-02, -2.02295533e-01,\n",
       "        1.12964523e+00])"
      ]
     },
     "execution_count": 48,
     "metadata": {},
     "output_type": "execute_result"
    }
   ],
   "source": [
    "df = df_country['Cases'].pct_change().to_frame('Percent Change').reset_index()[1:]\n",
    "df\n",
    "x = df.index\n",
    "y = df['Percent Change']\n",
    "# print(x, y)\n",
    "z = np.polyfit(x, y, 4)\n",
    "p = np.poly1d(z)\n",
    "p"
   ]
  },
  {
   "cell_type": "code",
   "execution_count": 49,
   "metadata": {},
   "outputs": [
    {
     "data": {
      "image/png": "[encoded data removed]",
      "text/plain": [
       "<Figure size 432x288 with 1 Axes>"
      ]
     },
     "metadata": {
      "needs_background": "light"
     },
     "output_type": "display_data"
    },
    {
     "data": {
      "image/png": "[encoded data removed]",
      "text/plain": [
       "<Figure size 432x288 with 1 Axes>"
      ]
     },
     "metadata": {
      "needs_background": "light"
     },
     "output_type": "display_data"
    }
   ],
   "source": [
    "df_country = df_confirmed.loc[(df_confirmed['Country/Region'] == 'Korea, South') & (df_confirmed['Cases'] >= min_cases)]\n",
    "df_country.plot(y='Cases', title='South Korea Total Confirmed Cases')\n",
    "\n",
    "ma = y.rolling(window=3).median()\n",
    "fig, ax = plt.subplots()\n",
    "plt.title('South Korea Daily % Change Confirmed Cases')\n",
    "ax.plot(x, y, '.b', label='Daily % Chg')\n",
    "ax.plot(x, p(x), '-r', label='Polyfit d=4')\n",
    "ax.plot(x, ma, '--g', label='Median w=3')\n",
    "# ax.axis('equal')\n",
    "leg = ax.legend(loc='upper right', frameon=True);"
   ]
  },
  {
   "cell_type": "markdown",
   "metadata": {},
   "source": [
    "## Logistic Modeling\n",
    "\n",
    "The logistic model has been widely used to describe population growth such as the spread of a virus through the population. \n",
    "\n",
    "$$\n",
    "f(x,a,b,c) = \\dfrac{c}{1 + e^{-(x-b)/a}}\n",
    "$$\n",
    "\n",
    "- $x$ = time (days)\n",
    "- $a$ = infection speed\n",
    "- $b$ = inflection point (days), day with max rate of new infections \n",
    "- $c$ = total number of recorded infected people at the end\n",
    "\n",
    "The number of infected people eventually gets close $c$ where the infection has ended. \n",
    "\n",
    "The inflection point $b$, is the point at which the rate of infection starts to decrease (max first derivative).\n",
    "\n",
    "A plot of a generic logistic function is shown below."
   ]
  },
  {
   "cell_type": "code",
   "execution_count": 50,
   "metadata": {},
   "outputs": [
    {
     "data": {
      "image/png": "[encoded data removed]",
      "text/plain": [
       "<Figure size 432x288 with 1 Axes>"
      ]
     },
     "metadata": {
      "needs_background": "light"
     },
     "output_type": "display_data"
    }
   ],
   "source": [
    "x = np.linspace(-10, 10)\n",
    "y = 1/(1+np.exp(-x))\n",
    "plt.plot(x,y, color=\"green\")\n",
    "# plt.plot(x, [0.5]*50, color=\"red\")\n",
    "plt.plot(np.array([0,0]), np.array([0,1]), color=\"red\")\n",
    "plt.title(\"Logistic Function\")\n",
    "plt.xlabel(\"x\")\n",
    "plt.ylabel(\"1/(1+np.exp(-x))\")\n",
    "plt.show()\n"
   ]
  },
  {
   "cell_type": "markdown",
   "metadata": {},
   "source": [
    "The rate of infection increases rapidly until it reaches an inflection point shown by the intersection of the red line. Then eventually levels off."
   ]
  },
  {
   "cell_type": "code",
   "execution_count": 51,
   "metadata": {},
   "outputs": [],
   "source": [
    "import pandas as pd\n",
    "import numpy as np\n",
    "from datetime import datetime,timedelta\n",
    "from sklearn.metrics import mean_squared_error\n",
    "from scipy.optimize import curve_fit\n",
    "from scipy.optimize import fsolve\n",
    "import matplotlib.pyplot as plt\n",
    "%matplotlib inline"
   ]
  },
  {
   "cell_type": "code",
   "execution_count": 52,
   "metadata": {},
   "outputs": [],
   "source": [
    "def logistic_model(x,a,b,c):\n",
    "    return c/(1+np.exp(-(x-b)/a))"
   ]
  },
  {
   "cell_type": "code",
   "execution_count": 53,
   "metadata": {},
   "outputs": [],
   "source": [
    "df_confirmed=df_confirmed_new"
   ]
  },
  {
   "cell_type": "markdown",
   "metadata": {},
   "source": [
    "#### Curve fit using South Korea"
   ]
  },
  {
   "cell_type": "code",
   "execution_count": 54,
   "metadata": {},
   "outputs": [
    {
     "data": {
      "text/html": [
       "<div>\n",
       "<style scoped>\n",
       "    .dataframe tbody tr th:only-of-type {\n",
       "        vertical-align: middle;\n",
       "    }\n",
       "\n",
       "    .dataframe tbody tr th {\n",
       "        vertical-align: top;\n",
       "    }\n",
       "\n",
       "    .dataframe thead th {\n",
       "        text-align: right;\n",
       "    }\n",
       "</style>\n",
       "<table border=\"1\" class=\"dataframe\">\n",
       "  <thead>\n",
       "    <tr style=\"text-align: right;\">\n",
       "      <th></th>\n",
       "      <th>Province/State</th>\n",
       "      <th>Country/Region</th>\n",
       "      <th>Lat</th>\n",
       "      <th>Long</th>\n",
       "      <th>Cases</th>\n",
       "    </tr>\n",
       "    <tr>\n",
       "      <th>Date</th>\n",
       "      <th></th>\n",
       "      <th></th>\n",
       "      <th></th>\n",
       "      <th></th>\n",
       "      <th></th>\n",
       "    </tr>\n",
       "  </thead>\n",
       "  <tbody>\n",
       "    <tr>\n",
       "      <th>2020-01-22</th>\n",
       "      <td>NaN</td>\n",
       "      <td>Korea, South</td>\n",
       "      <td>36.0</td>\n",
       "      <td>128.0</td>\n",
       "      <td>1</td>\n",
       "    </tr>\n",
       "    <tr>\n",
       "      <th>2020-01-23</th>\n",
       "      <td>NaN</td>\n",
       "      <td>Korea, South</td>\n",
       "      <td>36.0</td>\n",
       "      <td>128.0</td>\n",
       "      <td>1</td>\n",
       "    </tr>\n",
       "    <tr>\n",
       "      <th>2020-01-24</th>\n",
       "      <td>NaN</td>\n",
       "      <td>Korea, South</td>\n",
       "      <td>36.0</td>\n",
       "      <td>128.0</td>\n",
       "      <td>2</td>\n",
       "    </tr>\n",
       "    <tr>\n",
       "      <th>2020-01-25</th>\n",
       "      <td>NaN</td>\n",
       "      <td>Korea, South</td>\n",
       "      <td>36.0</td>\n",
       "      <td>128.0</td>\n",
       "      <td>2</td>\n",
       "    </tr>\n",
       "    <tr>\n",
       "      <th>2020-01-26</th>\n",
       "      <td>NaN</td>\n",
       "      <td>Korea, South</td>\n",
       "      <td>36.0</td>\n",
       "      <td>128.0</td>\n",
       "      <td>3</td>\n",
       "    </tr>\n",
       "    <tr>\n",
       "      <th>...</th>\n",
       "      <td>...</td>\n",
       "      <td>...</td>\n",
       "      <td>...</td>\n",
       "      <td>...</td>\n",
       "      <td>...</td>\n",
       "    </tr>\n",
       "    <tr>\n",
       "      <th>2020-03-21</th>\n",
       "      <td>NaN</td>\n",
       "      <td>Korea, South</td>\n",
       "      <td>36.0</td>\n",
       "      <td>128.0</td>\n",
       "      <td>8799</td>\n",
       "    </tr>\n",
       "    <tr>\n",
       "      <th>2020-03-22</th>\n",
       "      <td>NaN</td>\n",
       "      <td>Korea, South</td>\n",
       "      <td>36.0</td>\n",
       "      <td>128.0</td>\n",
       "      <td>8961</td>\n",
       "    </tr>\n",
       "    <tr>\n",
       "      <th>2020-03-23</th>\n",
       "      <td>NaN</td>\n",
       "      <td>Korea, South</td>\n",
       "      <td>36.0</td>\n",
       "      <td>128.0</td>\n",
       "      <td>8961</td>\n",
       "    </tr>\n",
       "    <tr>\n",
       "      <th>2020-03-24</th>\n",
       "      <td>NaN</td>\n",
       "      <td>Korea, South</td>\n",
       "      <td>36.0</td>\n",
       "      <td>128.0</td>\n",
       "      <td>9037</td>\n",
       "    </tr>\n",
       "    <tr>\n",
       "      <th>2020-03-25</th>\n",
       "      <td>NaN</td>\n",
       "      <td>Korea, South</td>\n",
       "      <td>36.0</td>\n",
       "      <td>128.0</td>\n",
       "      <td>9137</td>\n",
       "    </tr>\n",
       "  </tbody>\n",
       "</table>\n",
       "<p>64 rows × 5 columns</p>\n",
       "</div>"
      ],
      "text/plain": [
       "           Province/State Country/Region   Lat   Long  Cases\n",
       "Date                                                        \n",
       "2020-01-22            NaN   Korea, South  36.0  128.0      1\n",
       "2020-01-23            NaN   Korea, South  36.0  128.0      1\n",
       "2020-01-24            NaN   Korea, South  36.0  128.0      2\n",
       "2020-01-25            NaN   Korea, South  36.0  128.0      2\n",
       "2020-01-26            NaN   Korea, South  36.0  128.0      3\n",
       "...                   ...            ...   ...    ...    ...\n",
       "2020-03-21            NaN   Korea, South  36.0  128.0   8799\n",
       "2020-03-22            NaN   Korea, South  36.0  128.0   8961\n",
       "2020-03-23            NaN   Korea, South  36.0  128.0   8961\n",
       "2020-03-24            NaN   Korea, South  36.0  128.0   9037\n",
       "2020-03-25            NaN   Korea, South  36.0  128.0   9137\n",
       "\n",
       "[64 rows x 5 columns]"
      ]
     },
     "execution_count": 54,
     "metadata": {},
     "output_type": "execute_result"
    }
   ],
   "source": [
    "min_cases=0\n",
    "df_sk = df_confirmed.loc[(df_confirmed['Country/Region'] == 'Korea, South') & (df_confirmed['Cases'] >= min_cases)]\n",
    "df_sk"
   ]
  },
  {
   "cell_type": "code",
   "execution_count": 55,
   "metadata": {},
   "outputs": [],
   "source": [
    "df = df_sk['Cases'].to_frame('Cases').reset_index()[:]\n",
    "df\n",
    "x = df.index\n",
    "y = df['Cases']\n",
    "fit = curve_fit(logistic_model,x,y,p0=[2,100,15000])"
   ]
  },
  {
   "cell_type": "markdown",
   "metadata": {},
   "source": [
    "Below `popt` contains the learned parameters, a, b, c. `pcov` is the covariance matrix, whose diagonal values are the variances of the parameters."
   ]
  },
  {
   "cell_type": "code",
   "execution_count": 56,
   "metadata": {},
   "outputs": [],
   "source": [
    "popt = fit[0] # optimized parameters\n",
    "pcov = fit[1] # covariance matrix\n",
    "           \n",
    "a = popt[0]\n",
    "b = popt[1]\n",
    "c = popt[2]"
   ]
  },
  {
   "cell_type": "code",
   "execution_count": 57,
   "metadata": {},
   "outputs": [
    {
     "name": "stdout",
     "output_type": "stream",
     "text": [
      "a = 3.3163935512723 +/- 0.09570428304674829\n",
      "b = 40.134839637220004 +/- 0.11295038271692326\n",
      "c = 8603.668909193175 +/- 53.95221509933352\n"
     ]
    }
   ],
   "source": [
    "print(\"a =\", popt[0], \"+/-\", pcov[0,0]**0.5)\n",
    "print(\"b =\", popt[1], \"+/-\", pcov[1,1]**0.5)\n",
    "print(\"c =\", popt[2], \"+/-\", pcov[2,2]**0.5)"
   ]
  },
  {
   "cell_type": "markdown",
   "metadata": {},
   "source": [
    "The square root of the variances provides the Standard Error for each learned parameter, a, b, and c respectively."
   ]
  },
  {
   "cell_type": "code",
   "execution_count": 58,
   "metadata": {},
   "outputs": [
    {
     "data": {
      "text/plain": [
       "[0.09570428304674829, 0.11295038271692326, 53.95221509933352]"
      ]
     },
     "execution_count": 58,
     "metadata": {},
     "output_type": "execute_result"
    }
   ],
   "source": [
    "errors = [np.sqrt(fit[1][i][i]) for i in [0,1,2]]\n",
    "errors"
   ]
  },
  {
   "cell_type": "code",
   "execution_count": 59,
   "metadata": {},
   "outputs": [
    {
     "name": "stdout",
     "output_type": "stream",
     "text": [
      "Expected number of infected people at infection end: 8603.67 +/- 53.95\n",
      "Infection peak in days from start: 40.13 +/- 0.11\n"
     ]
    }
   ],
   "source": [
    "print('Expected number of infected people at infection end:', round(c,2), '+/-', round(errors[2],2))\n",
    "print('Infection peak in days from start:', round(b,2), '+/-', round(errors[1],2))\n",
    "      "
   ]
  },
  {
   "cell_type": "code",
   "execution_count": 60,
   "metadata": {},
   "outputs": [
    {
     "data": {
      "text/plain": [
       "numpy.datetime64('2020-03-02T00:00:00.000000000')"
      ]
     },
     "execution_count": 60,
     "metadata": {},
     "output_type": "execute_result"
    }
   ],
   "source": [
    "import numpy as np\n",
    "infection_peak_date = np.datetime64(df_confirmed.index.values.min()) + np.timedelta64(int(round(b,2)),'D')\n",
    "infection_peak_date"
   ]
  },
  {
   "cell_type": "code",
   "execution_count": 61,
   "metadata": {},
   "outputs": [
    {
     "data": {
      "text/plain": [
       "'2020-03-02'"
      ]
     },
     "execution_count": 61,
     "metadata": {},
     "output_type": "execute_result"
    }
   ],
   "source": [
    "infection_peak_date_string = np.datetime_as_string(infection_peak_date, unit='D')\n",
    "infection_peak_date_string"
   ]
  },
  {
   "cell_type": "markdown",
   "metadata": {},
   "source": [
    "Calculate infection end day as the day at which the cumulative total infected count is equal to the `c` parameter.\n",
    "\n",
    "The model can be used with Scipy fsolve function which will find the root of the equation that defines the infection end day."
   ]
  },
  {
   "cell_type": "code",
   "execution_count": 62,
   "metadata": {},
   "outputs": [
    {
     "data": {
      "text/plain": [
       "71"
      ]
     },
     "execution_count": 62,
     "metadata": {},
     "output_type": "execute_result"
    }
   ],
   "source": [
    "d = int(fsolve(lambda x : logistic_model(x,a,b,c) - int(c),b))\n",
    "d"
   ]
  },
  {
   "cell_type": "code",
   "execution_count": 63,
   "metadata": {},
   "outputs": [
    {
     "data": {
      "text/plain": [
       "'2020-04-02'"
      ]
     },
     "execution_count": 63,
     "metadata": {},
     "output_type": "execute_result"
    }
   ],
   "source": [
    "infection_end_date = np.datetime64(df_confirmed.index.values.min()) + np.timedelta64(int(round(d,2)),'D')\n",
    "\n",
    "infection_end_date_string = np.datetime_as_string(infection_end_date, unit='D')\n",
    "infection_end_date_string"
   ]
  },
  {
   "cell_type": "markdown",
   "metadata": {},
   "source": [
    "#### Plot fitted logistic function with actual data"
   ]
  },
  {
   "cell_type": "code",
   "execution_count": 64,
   "metadata": {},
   "outputs": [],
   "source": [
    "df_confirmed = df_confirmed_new"
   ]
  },
  {
   "cell_type": "code",
   "execution_count": 65,
   "metadata": {},
   "outputs": [
    {
     "data": {
      "text/plain": [
       "'2020-01-22'"
      ]
     },
     "execution_count": 65,
     "metadata": {},
     "output_type": "execute_result"
    }
   ],
   "source": [
    "min_date = np.datetime_as_string(df_confirmed.index.values.min(), unit='D')\n",
    "min_date"
   ]
  },
  {
   "cell_type": "code",
   "execution_count": 66,
   "metadata": {},
   "outputs": [
    {
     "data": {
      "image/png": "[encoded data removed]",
      "text/plain": [
       "<Figure size 432x288 with 1 Axes>"
      ]
     },
     "metadata": {
      "needs_background": "light"
     },
     "output_type": "display_data"
    }
   ],
   "source": [
    "plt.scatter(x, y, color=\"red\", label=\"Data\")\n",
    "\n",
    "# Fitted logistic curve\n",
    "plt.plot(x, [logistic_model(i, popt[0], popt[1], popt[2]) for i in x], label=\"Logistic model\" )\n",
    "plt.legend()\n",
    "plt.xlabel(\"Days since \" + min_date)\n",
    "plt.ylabel(\"Total number of confirmed cases\")\n",
    "plt.ylim((min(y)*0.9,c*1.1))\n",
    "plt.title('Logistic Model South Korea')\n",
    "plt.show()"
   ]
  },
  {
   "cell_type": "markdown",
   "metadata": {},
   "source": [
    "#### Summary South Korea Model"
   ]
  },
  {
   "cell_type": "code",
   "execution_count": 67,
   "metadata": {},
   "outputs": [
    {
     "name": "stdout",
     "output_type": "stream",
     "text": [
      "a = 3.3164147015007734 +/- 0.09570641935570129\n",
      "b = 40.13486058429245 +/- 0.11295326714845647\n",
      "c = 8603.677867153077 +/- 53.953560331030715\n",
      "errors [0.09570641935570129, 0.11295326714845647, 53.953560331030715]\n",
      "Expected number of infected people at infection end: 8603.68 +/- 53.95\n",
      "Infection peak in days from start: 40.13 +/- 0.11\n",
      "infection_peak_date 2020-03-02T00:00:00.000000000\n",
      "infection_peak_date_string\n",
      "days end 71\n",
      "infection_end_date_string 2020-04-02\n"
     ]
    }
   ],
   "source": [
    "df = df_sk['Cases'].to_frame('Cases').reset_index()[:]\n",
    "df\n",
    "x_sk = df.index\n",
    "y_sk = df['Cases']\n",
    "fit = curve_fit(logistic_model,x_sk,y_sk,p0=[2,25,300000])\n",
    "\n",
    "popt_sk = fit[0] # optimized parameters\n",
    "pcov_sk = fit[1] # covariance matrix\n",
    "           \n",
    "a = popt_sk[0]\n",
    "b = popt_sk[1]\n",
    "c = popt_sk[2]\n",
    "\n",
    "print(\"a =\", popt_sk[0], \"+/-\", pcov_sk[0,0]**0.5)\n",
    "print(\"b =\", popt_sk[1], \"+/-\", pcov_sk[1,1]**0.5)\n",
    "print(\"c =\", popt_sk[2], \"+/-\", pcov_sk[2,2]**0.5)\n",
    "\n",
    "errors = [np.sqrt(fit[1][i][i]) for i in [0,1,2]]\n",
    "print('errors', errors)\n",
    "\n",
    "print('Expected number of infected people at infection end:', round(c,2), '+/-', round(errors[2],2))\n",
    "print('Infection peak in days from start:', round(b,2), '+/-', round(errors[1],2))\n",
    "\n",
    "infection_peak_date = np.datetime64(df_confirmed.index.values.min()) + np.timedelta64(int(round(b,2)),'D')\n",
    "print('infection_peak_date',infection_peak_date)\n",
    "\n",
    "infection_peak_date_string = np.datetime_as_string(infection_peak_date, unit='D')\n",
    "print('infection_peak_date_string')\n",
    "\n",
    "d = int(fsolve(lambda x_sk : logistic_model(x_sk,a,b,c) - int(c),b))\n",
    "print('days end', d)\n",
    "\n",
    "infection_end_date = np.datetime64(df_confirmed.index.values.min()) + np.timedelta64(int(round(d,2)),'D')\n",
    "\n",
    "infection_end_date_string = np.datetime_as_string(infection_end_date, unit='D')\n",
    "print('infection_end_date_string', infection_end_date_string)\n"
   ]
  },
  {
   "cell_type": "code",
   "execution_count": 68,
   "metadata": {},
   "outputs": [
    {
     "data": {
      "image/png": "[encoded data removed]",
      "text/plain": [
       "<Figure size 432x288 with 1 Axes>"
      ]
     },
     "metadata": {
      "needs_background": "light"
     },
     "output_type": "display_data"
    }
   ],
   "source": [
    "plt.scatter(x_sk, y_sk, color=\"red\", label=\"Data\")\n",
    "\n",
    "# Fitted logistic curve\n",
    "plt.plot(x_sk, [logistic_model(i, popt_sk[0], popt_sk[1], popt_sk[2]) for i in x_sk], label=\"Logistic model\" )\n",
    "plt.legend()\n",
    "plt.xlabel(\"Days since \" + min_date)\n",
    "plt.ylabel(\"Total number of confirmed cases\")\n",
    "plt.title('Logistic Model South Korea')\n",
    "plt.savefig('Logistic Model South Korea.png')\n",
    "\n",
    "plt.show()"
   ]
  },
  {
   "cell_type": "markdown",
   "metadata": {},
   "source": [
    "#### SK Piecewise Model"
   ]
  },
  {
   "cell_type": "code",
   "execution_count": 69,
   "metadata": {},
   "outputs": [
    {
     "data": {
      "image/png": "[encoded data removed]",
      "text/plain": [
       "<Figure size 432x288 with 1 Axes>"
      ]
     },
     "metadata": {
      "needs_background": "light"
     },
     "output_type": "display_data"
    }
   ],
   "source": [
    "def quadratic_model(x, a, b, c):\n",
    "    return a*pow(x,2) + b*x + c\n",
    "\n",
    "from scipy import optimize\n",
    "import matplotlib.pyplot as plt\n",
    "import numpy as np\n",
    "%matplotlib inline\n",
    "\n",
    "x = np.array([1, 2, 3, 4, 5, 6, 7, 8, 9, 10 ,11, 12, 13, 14, 15], dtype=float)\n",
    "y = np.array([5, 7, 9, 11, 13, 15, 28.92, 42.81, 56.7, 70.59, 84.47, 98.36, 112.25, 126.14, 140.03])\n",
    "\n",
    "def piecewise_linear(x, x0, y0, k1, k2):\n",
    "    return np.piecewise(x, [x < x0], [lambda x:k1*x + y0-k1*x0, lambda x:k2*x + y0-k2*x0])\n",
    "\n",
    "p , e = optimize.curve_fit(piecewise_linear, x, y)\n",
    "xd = np.linspace(0, 15, 100)\n",
    "plt.plot(x, y, \"o\")\n",
    "plt.plot(xd, piecewise_linear(xd, *p));"
   ]
  },
  {
   "cell_type": "code",
   "execution_count": 70,
   "metadata": {},
   "outputs": [
    {
     "name": "stdout",
     "output_type": "stream",
     "text": [
      "[2.80978373e+00 3.94081676e+01 7.94804275e+03] [[1.47519025e-03 1.25175593e-03 1.23072719e+00]\n",
      " [1.25175593e-03 2.80354243e-03 1.92630249e+00]\n",
      " [1.23072719e+00 1.92630249e+00 1.90280620e+03]]\n",
      "[1.61401099e-01 8.18781593e+01 3.36867143e+03] [[ 5.68184553e-01 -6.42048284e+01  1.80455265e+03]\n",
      " [-6.42048284e+01  7.26241549e+03 -2.04325282e+05]\n",
      " [ 1.80455265e+03 -2.04325282e+05  5.75458939e+06]]\n"
     ]
    }
   ],
   "source": [
    "from scipy import optimize\n",
    "import matplotlib.pyplot as plt\n",
    "import numpy as np\n",
    "%matplotlib inline\n",
    "\n",
    "def logistic_model(x,a,b,c):\n",
    "    return c/(1+np.exp(-(x-b)/a))\n",
    "\n",
    "def quadratic_model(x, a, b, c):\n",
    "    return a*pow(x,2) + b*x + c\n",
    "\n",
    "def piecewise_nonlinear(x, day, a, b, c):\n",
    "    return np.piecewise(x, [x < day], [lambda x:c/(1+np.exp(-(x-b)/a)), lambda x:a*pow(x,2) + b*x + c])\n",
    "\n",
    "df = df_sk['Cases'].to_frame('Cases').reset_index()[:]\n",
    "df\n",
    "x_sk = df.index\n",
    "y_sk = df['Cases']\n",
    "\n",
    "day=50\n",
    "popt_logistic_sk , popv_logistic_sk = optimize.curve_fit(logistic_model, x_sk[:day], y_sk[:day])\n",
    "print(popt_logistic_sk , popv_logistic_sk)\n",
    "\n",
    "popt_quadratic_sk , popv_quadratic_sk = optimize.curve_fit(quadratic_model, x_sk[day:], y_sk[day:])\n",
    "print(popt_quadratic_sk , popv_quadratic_sk)\n"
   ]
  },
  {
   "cell_type": "code",
   "execution_count": 71,
   "metadata": {},
   "outputs": [
    {
     "data": {
      "image/png": "[encoded data removed]",
      "text/plain": [
       "<Figure size 432x288 with 1 Axes>"
      ]
     },
     "metadata": {
      "needs_background": "light"
     },
     "output_type": "display_data"
    }
   ],
   "source": [
    "plt.scatter(x_sk, y_sk, color=\"red\", label=\"Data\")\n",
    "\n",
    "# Fitted logistic curve\n",
    "plt.plot(x_sk[:day], [logistic_model(i, popt_logistic_sk[0], popt_logistic_sk[1], popt_logistic_sk[2]) for i in x_sk[:day]], label=\"Logistic model\", color=\"blue\")\n",
    "plt.plot(x_sk[day:], [quadratic_model(i, popt_quadratic_sk[0], popt_quadratic_sk[1], popt_quadratic_sk[2]) for i in x_sk[day:]], label=\"Quadratic model\", color=\"green\" )\n",
    "plt.legend()\n",
    "plt.xlabel(\"Days since \" + min_date)\n",
    "plt.ylabel(\"Total number of confirmed cases\")\n",
    "plt.title('Piecewise Logistic-Quadratic Model South Korea')\n",
    "plt.savefig('Piecewise Logistic-Quadratic Model South Korea.png')\n",
    "\n",
    "plt.show()\n"
   ]
  },
  {
   "cell_type": "markdown",
   "metadata": {},
   "source": [
    "#### SK Scaled Model US"
   ]
  },
  {
   "cell_type": "code",
   "execution_count": 72,
   "metadata": {},
   "outputs": [
    {
     "data": {
      "text/html": [
       "<div>\n",
       "<style scoped>\n",
       "    .dataframe tbody tr th:only-of-type {\n",
       "        vertical-align: middle;\n",
       "    }\n",
       "\n",
       "    .dataframe tbody tr th {\n",
       "        vertical-align: top;\n",
       "    }\n",
       "\n",
       "    .dataframe thead th {\n",
       "        text-align: right;\n",
       "    }\n",
       "</style>\n",
       "<table border=\"1\" class=\"dataframe\">\n",
       "  <thead>\n",
       "    <tr style=\"text-align: right;\">\n",
       "      <th></th>\n",
       "      <th>Province/State</th>\n",
       "      <th>Country/Region</th>\n",
       "      <th>Lat</th>\n",
       "      <th>Long</th>\n",
       "      <th>Cases</th>\n",
       "    </tr>\n",
       "    <tr>\n",
       "      <th>Date</th>\n",
       "      <th></th>\n",
       "      <th></th>\n",
       "      <th></th>\n",
       "      <th></th>\n",
       "      <th></th>\n",
       "    </tr>\n",
       "  </thead>\n",
       "  <tbody>\n",
       "    <tr>\n",
       "      <th>2020-01-22</th>\n",
       "      <td>NaN</td>\n",
       "      <td>US</td>\n",
       "      <td>37.0902</td>\n",
       "      <td>-95.7129</td>\n",
       "      <td>1</td>\n",
       "    </tr>\n",
       "    <tr>\n",
       "      <th>2020-01-23</th>\n",
       "      <td>NaN</td>\n",
       "      <td>US</td>\n",
       "      <td>37.0902</td>\n",
       "      <td>-95.7129</td>\n",
       "      <td>1</td>\n",
       "    </tr>\n",
       "    <tr>\n",
       "      <th>2020-01-24</th>\n",
       "      <td>NaN</td>\n",
       "      <td>US</td>\n",
       "      <td>37.0902</td>\n",
       "      <td>-95.7129</td>\n",
       "      <td>2</td>\n",
       "    </tr>\n",
       "    <tr>\n",
       "      <th>2020-01-25</th>\n",
       "      <td>NaN</td>\n",
       "      <td>US</td>\n",
       "      <td>37.0902</td>\n",
       "      <td>-95.7129</td>\n",
       "      <td>2</td>\n",
       "    </tr>\n",
       "    <tr>\n",
       "      <th>2020-01-26</th>\n",
       "      <td>NaN</td>\n",
       "      <td>US</td>\n",
       "      <td>37.0902</td>\n",
       "      <td>-95.7129</td>\n",
       "      <td>5</td>\n",
       "    </tr>\n",
       "  </tbody>\n",
       "</table>\n",
       "</div>"
      ],
      "text/plain": [
       "           Province/State Country/Region      Lat     Long  Cases\n",
       "Date                                                             \n",
       "2020-01-22            NaN             US  37.0902 -95.7129      1\n",
       "2020-01-23            NaN             US  37.0902 -95.7129      1\n",
       "2020-01-24            NaN             US  37.0902 -95.7129      2\n",
       "2020-01-25            NaN             US  37.0902 -95.7129      2\n",
       "2020-01-26            NaN             US  37.0902 -95.7129      5"
      ]
     },
     "execution_count": 72,
     "metadata": {},
     "output_type": "execute_result"
    }
   ],
   "source": [
    "df_confirmed.loc[(df_confirmed['Country/Region'] == 'US')].head()\n"
   ]
  },
  {
   "cell_type": "code",
   "execution_count": 73,
   "metadata": {},
   "outputs": [
    {
     "data": {
      "text/html": [
       "<div>\n",
       "<style scoped>\n",
       "    .dataframe tbody tr th:only-of-type {\n",
       "        vertical-align: middle;\n",
       "    }\n",
       "\n",
       "    .dataframe tbody tr th {\n",
       "        vertical-align: top;\n",
       "    }\n",
       "\n",
       "    .dataframe thead th {\n",
       "        text-align: right;\n",
       "    }\n",
       "</style>\n",
       "<table border=\"1\" class=\"dataframe\">\n",
       "  <thead>\n",
       "    <tr style=\"text-align: right;\">\n",
       "      <th></th>\n",
       "      <th>Date</th>\n",
       "      <th>Cases</th>\n",
       "    </tr>\n",
       "  </thead>\n",
       "  <tbody>\n",
       "    <tr>\n",
       "      <th>0</th>\n",
       "      <td>2020-01-22</td>\n",
       "      <td>1</td>\n",
       "    </tr>\n",
       "    <tr>\n",
       "      <th>1</th>\n",
       "      <td>2020-01-23</td>\n",
       "      <td>1</td>\n",
       "    </tr>\n",
       "    <tr>\n",
       "      <th>2</th>\n",
       "      <td>2020-01-24</td>\n",
       "      <td>2</td>\n",
       "    </tr>\n",
       "    <tr>\n",
       "      <th>3</th>\n",
       "      <td>2020-01-25</td>\n",
       "      <td>2</td>\n",
       "    </tr>\n",
       "    <tr>\n",
       "      <th>4</th>\n",
       "      <td>2020-01-26</td>\n",
       "      <td>5</td>\n",
       "    </tr>\n",
       "    <tr>\n",
       "      <th>...</th>\n",
       "      <td>...</td>\n",
       "      <td>...</td>\n",
       "    </tr>\n",
       "    <tr>\n",
       "      <th>59</th>\n",
       "      <td>2020-03-21</td>\n",
       "      <td>25489</td>\n",
       "    </tr>\n",
       "    <tr>\n",
       "      <th>60</th>\n",
       "      <td>2020-03-22</td>\n",
       "      <td>33276</td>\n",
       "    </tr>\n",
       "    <tr>\n",
       "      <th>61</th>\n",
       "      <td>2020-03-23</td>\n",
       "      <td>43847</td>\n",
       "    </tr>\n",
       "    <tr>\n",
       "      <th>62</th>\n",
       "      <td>2020-03-24</td>\n",
       "      <td>53740</td>\n",
       "    </tr>\n",
       "    <tr>\n",
       "      <th>63</th>\n",
       "      <td>2020-03-25</td>\n",
       "      <td>65778</td>\n",
       "    </tr>\n",
       "  </tbody>\n",
       "</table>\n",
       "<p>64 rows × 2 columns</p>\n",
       "</div>"
      ],
      "text/plain": [
       "         Date  Cases\n",
       "0  2020-01-22      1\n",
       "1  2020-01-23      1\n",
       "2  2020-01-24      2\n",
       "3  2020-01-25      2\n",
       "4  2020-01-26      5\n",
       "..        ...    ...\n",
       "59 2020-03-21  25489\n",
       "60 2020-03-22  33276\n",
       "61 2020-03-23  43847\n",
       "62 2020-03-24  53740\n",
       "63 2020-03-25  65778\n",
       "\n",
       "[64 rows x 2 columns]"
      ]
     },
     "execution_count": 73,
     "metadata": {},
     "output_type": "execute_result"
    }
   ],
   "source": [
    "min_cases = 0\n",
    "df_us = df_confirmed.loc[(df_confirmed['Country/Region'] == 'US') & (df_confirmed['Cases'] >= min_cases)]\n",
    "df_us = df_us['Cases'].to_frame('Cases').reset_index()[:]\n",
    "df_us"
   ]
  },
  {
   "cell_type": "code",
   "execution_count": 74,
   "metadata": {},
   "outputs": [],
   "source": [
    "pop_dict = {'US Total':331002651,\n",
    "    'Japan':126476461,\n",
    "    'Germany':83783942,\n",
    "    'United Kingdom':67886011,\n",
    "    'France':6273511,\n",
    "    'Italy':60461826,\n",
    "    'Korea, South':51269185,\n",
    "    'Spain':46754778,\n",
    "    'Argentina':45195774,\n",
    "    'Canada':37742154,\n",
    "    'Australia':25499884,\n",
    "    'Taiwan':23816775,\n",
    "    'Iran':8992949,\n",
    "    'Brazil':209469333,\n",
    "    'Colombia':49648685,\n",
    "    'Mexico':126190788,\n",
    "    'China':1439323776,\n",
    "    'China Hubei':75600000\n",
    "}"
   ]
  },
  {
   "cell_type": "code",
   "execution_count": 75,
   "metadata": {},
   "outputs": [
    {
     "data": {
      "text/plain": [
       "6.45617149950794"
      ]
     },
     "execution_count": 75,
     "metadata": {},
     "output_type": "execute_result"
    }
   ],
   "source": [
    "us_sk_pop_factor = pop_dict['US Total']/pop_dict['Korea, South']\n",
    "us_sk_pop_factor"
   ]
  },
  {
   "cell_type": "code",
   "execution_count": 76,
   "metadata": {},
   "outputs": [
    {
     "data": {
      "image/png": "[encoded data removed]",
      "text/plain": [
       "<Figure size 432x288 with 1 Axes>"
      ]
     },
     "metadata": {
      "needs_background": "light"
     },
     "output_type": "display_data"
    }
   ],
   "source": [
    "sk_day_offset = 19\n",
    "x_us = df_us.index\n",
    "y_us = df_us['Cases']\n",
    "x_ext = np.arange(100)\n",
    "plt.scatter(x_us, y_us, color=\"red\", label=\"US Confirmed Cases\")\n",
    "\n",
    "# Fitted logistic curve\n",
    "plt.plot(x_ext+sk_day_offset, [logistic_model(i, popt_sk[0], popt_sk[1], popt_sk[2]*us_sk_pop_factor) for i in x_ext], label=\"Logistic model\" )\n",
    "plt.legend()\n",
    "plt.xlabel(\"Days since \" + min_date)\n",
    "plt.ylabel(\"Total number of confirmed cases\")\n",
    "plt.title('Scaled S. Korea Logistic Model, US Data')\n",
    "plt.savefig('Scaled S. Korea Logistic Model, US Data.png')\n",
    "\n",
    "plt.show()"
   ]
  },
  {
   "cell_type": "markdown",
   "metadata": {},
   "source": [
    "#### Logistic Model China"
   ]
  },
  {
   "cell_type": "code",
   "execution_count": 77,
   "metadata": {},
   "outputs": [],
   "source": [
    "#df_confirmed.loc[(df_confirmed['Country/Region'] == 'China') & (df_confirmed['Province/State'] == 'Hubei')]"
   ]
  },
  {
   "cell_type": "code",
   "execution_count": 78,
   "metadata": {},
   "outputs": [
    {
     "data": {
      "text/html": [
       "<div>\n",
       "<style scoped>\n",
       "    .dataframe tbody tr th:only-of-type {\n",
       "        vertical-align: middle;\n",
       "    }\n",
       "\n",
       "    .dataframe tbody tr th {\n",
       "        vertical-align: top;\n",
       "    }\n",
       "\n",
       "    .dataframe thead th {\n",
       "        text-align: right;\n",
       "    }\n",
       "</style>\n",
       "<table border=\"1\" class=\"dataframe\">\n",
       "  <thead>\n",
       "    <tr style=\"text-align: right;\">\n",
       "      <th></th>\n",
       "      <th>Date</th>\n",
       "      <th>Cases</th>\n",
       "    </tr>\n",
       "  </thead>\n",
       "  <tbody>\n",
       "    <tr>\n",
       "      <th>0</th>\n",
       "      <td>2020-01-22</td>\n",
       "      <td>444</td>\n",
       "    </tr>\n",
       "    <tr>\n",
       "      <th>1</th>\n",
       "      <td>2020-01-23</td>\n",
       "      <td>444</td>\n",
       "    </tr>\n",
       "    <tr>\n",
       "      <th>2</th>\n",
       "      <td>2020-01-24</td>\n",
       "      <td>549</td>\n",
       "    </tr>\n",
       "    <tr>\n",
       "      <th>3</th>\n",
       "      <td>2020-01-25</td>\n",
       "      <td>761</td>\n",
       "    </tr>\n",
       "    <tr>\n",
       "      <th>4</th>\n",
       "      <td>2020-01-26</td>\n",
       "      <td>1058</td>\n",
       "    </tr>\n",
       "    <tr>\n",
       "      <th>...</th>\n",
       "      <td>...</td>\n",
       "      <td>...</td>\n",
       "    </tr>\n",
       "    <tr>\n",
       "      <th>59</th>\n",
       "      <td>2020-03-21</td>\n",
       "      <td>67800</td>\n",
       "    </tr>\n",
       "    <tr>\n",
       "      <th>60</th>\n",
       "      <td>2020-03-22</td>\n",
       "      <td>67800</td>\n",
       "    </tr>\n",
       "    <tr>\n",
       "      <th>61</th>\n",
       "      <td>2020-03-23</td>\n",
       "      <td>67800</td>\n",
       "    </tr>\n",
       "    <tr>\n",
       "      <th>62</th>\n",
       "      <td>2020-03-24</td>\n",
       "      <td>67801</td>\n",
       "    </tr>\n",
       "    <tr>\n",
       "      <th>63</th>\n",
       "      <td>2020-03-25</td>\n",
       "      <td>67801</td>\n",
       "    </tr>\n",
       "  </tbody>\n",
       "</table>\n",
       "<p>64 rows × 2 columns</p>\n",
       "</div>"
      ],
      "text/plain": [
       "         Date  Cases\n",
       "0  2020-01-22    444\n",
       "1  2020-01-23    444\n",
       "2  2020-01-24    549\n",
       "3  2020-01-25    761\n",
       "4  2020-01-26   1058\n",
       "..        ...    ...\n",
       "59 2020-03-21  67800\n",
       "60 2020-03-22  67800\n",
       "61 2020-03-23  67800\n",
       "62 2020-03-24  67801\n",
       "63 2020-03-25  67801\n",
       "\n",
       "[64 rows x 2 columns]"
      ]
     },
     "execution_count": 78,
     "metadata": {},
     "output_type": "execute_result"
    }
   ],
   "source": [
    "min_cases = 0\n",
    "df_china_hubei = df_confirmed.loc[(df_confirmed['Country/Region'] == 'China') & (df_confirmed['Province/State'] == 'Hubei') & (df_confirmed['Cases'] >= min_cases)]\n",
    "df_china_hubei = df_china_hubei['Cases'].to_frame('Cases').reset_index()[:]\n",
    "df_china_hubei\n"
   ]
  },
  {
   "cell_type": "markdown",
   "metadata": {},
   "source": [
    "China Hubei Model"
   ]
  },
  {
   "cell_type": "code",
   "execution_count": 79,
   "metadata": {},
   "outputs": [
    {
     "name": "stdout",
     "output_type": "stream",
     "text": [
      "a = 4.259379220843947 +/- 0.14045338071918817\n",
      "b = 18.69239744362222 +/- 0.1622177488688196\n",
      "c = 67731.9715005768 +/- 364.4028646511572\n",
      "errors [0.14045338071918817, 0.1622177488688196, 364.4028646511572]\n",
      "Expected number of infected people at infection end: 67731.97 +/- 364.4\n",
      "Infection peak in days from start: 18.69 +/- 0.16\n",
      "infection_peak_date 2020-02-09T00:00:00.000000000\n",
      "infection_peak_date_string\n",
      "days end 66\n",
      "infection_end_date_string 2020-03-28\n"
     ]
    }
   ],
   "source": [
    "df = df_china_hubei['Cases'].to_frame('Cases').reset_index()[:]\n",
    "df\n",
    "x_ch_hb = df.index\n",
    "y_ch_hb = df['Cases']\n",
    "fit = curve_fit(logistic_model,x_ch_hb,y_ch_hb,p0=[2,25,100000])\n",
    "\n",
    "popt_ch_hb = fit[0] # optimized parameters\n",
    "pcov_ch_hb = fit[1] # covariance matrix\n",
    "           \n",
    "a = popt_ch_hb[0]\n",
    "b = popt_ch_hb[1]\n",
    "c = popt_ch_hb[2]\n",
    "\n",
    "print(\"a =\", popt_ch_hb[0], \"+/-\", pcov_ch_hb[0,0]**0.5)\n",
    "print(\"b =\", popt_ch_hb[1], \"+/-\", pcov_ch_hb[1,1]**0.5)\n",
    "print(\"c =\", popt_ch_hb[2], \"+/-\", pcov_ch_hb[2,2]**0.5)\n",
    "\n",
    "errors = [np.sqrt(fit[1][i][i]) for i in [0,1,2]]\n",
    "print('errors', errors)\n",
    "\n",
    "print('Expected number of infected people at infection end:', round(c,2), '+/-', round(errors[2],2))\n",
    "print('Infection peak in days from start:', round(b,2), '+/-', round(errors[1],2))\n",
    "\n",
    "infection_peak_date = np.datetime64(df_confirmed.index.values.min()) + np.timedelta64(int(round(b,2)),'D')\n",
    "print('infection_peak_date',infection_peak_date)\n",
    "\n",
    "infection_peak_date_string = np.datetime_as_string(infection_peak_date, unit='D')\n",
    "print('infection_peak_date_string')\n",
    "\n",
    "d = int(fsolve(lambda x_ch_hb : logistic_model(x_ch_hb,a,b,c) - int(c),b))\n",
    "print('days end', d)\n",
    "\n",
    "infection_end_date = np.datetime64(df_confirmed.index.values.min()) + np.timedelta64(int(round(d,2)),'D')\n",
    "\n",
    "infection_end_date_string = np.datetime_as_string(infection_end_date, unit='D')\n",
    "print('infection_end_date_string', infection_end_date_string)\n"
   ]
  },
  {
   "cell_type": "markdown",
   "metadata": {},
   "source": [
    "China Hubei Plot"
   ]
  },
  {
   "cell_type": "code",
   "execution_count": 80,
   "metadata": {},
   "outputs": [
    {
     "data": {
      "image/png": "[encoded data removed]",
      "text/plain": [
       "<Figure size 432x288 with 1 Axes>"
      ]
     },
     "metadata": {
      "needs_background": "light"
     },
     "output_type": "display_data"
    }
   ],
   "source": [
    "day_offset = 0\n",
    "x_china = df_china_hubei.index\n",
    "y_china = df_china_hubei['Cases']\n",
    "x_ext = x_china\n",
    "plt.scatter(x_china, y_china, color=\"red\", label=\"China Hubei Total Confirmed Cases\")\n",
    "\n",
    "# Fitted logistic curve\n",
    "plt.plot(x_china, [logistic_model(i, popt_ch_hb[0], popt_ch_hb[1], popt_ch_hb[2]*1) for i in x_china], label=\"Logistic model\" )\n",
    "plt.legend()\n",
    "plt.xlabel(\"Days since \" + min_date)\n",
    "plt.ylabel(\"Total number of confirmed cases\")\n",
    "plt.title('China Hubei Logistic Model')\n",
    "plt.savefig('China Hubei Logistic Model.png')\n",
    "\n",
    "plt.show()"
   ]
  },
  {
   "cell_type": "code",
   "execution_count": 81,
   "metadata": {},
   "outputs": [
    {
     "data": {
      "text/plain": [
       "4.378341944444444"
      ]
     },
     "execution_count": 81,
     "metadata": {},
     "output_type": "execute_result"
    }
   ],
   "source": [
    "us_china_hubei_pop_factor = pop_dict['US Total']/pop_dict['China Hubei']\n",
    "us_china_hubei_pop_factor\n"
   ]
  },
  {
   "cell_type": "code",
   "execution_count": 82,
   "metadata": {},
   "outputs": [
    {
     "data": {
      "image/png": "[encoded data removed]",
      "text/plain": [
       "<Figure size 432x288 with 1 Axes>"
      ]
     },
     "metadata": {
      "needs_background": "light"
     },
     "output_type": "display_data"
    }
   ],
   "source": [
    "ch_hb_day_offset = 51\n",
    "x_us = df_us.index\n",
    "y_us = df_us['Cases']\n",
    "x_ext = np.arange(200)\n",
    "plt.scatter(x_us, y_us, color=\"red\", label=\"US Confirmed Cases\")\n",
    "\n",
    "# Fitted logistic curve\n",
    "plt.plot(x_ext+ch_hb_day_offset, [logistic_model(i, popt_ch_hb[0], popt_ch_hb[1], popt_ch_hb[2]*us_china_hubei_pop_factor) for i in x_ext], label=\"Logistic model\" )\n",
    "plt.legend()\n",
    "plt.xlabel(\"Days since \" + min_date)\n",
    "plt.ylabel(\"Total number of confirmed cases\")\n",
    "plt.title('Scaled China Hubei Logistic Model, US Data')\n",
    "plt.savefig('Scaled China Hubei Logistic Model, US Data.png')\n",
    "\n",
    "plt.show()"
   ]
  },
  {
   "cell_type": "markdown",
   "metadata": {},
   "source": [
    "Italy Model"
   ]
  },
  {
   "cell_type": "code",
   "execution_count": 83,
   "metadata": {},
   "outputs": [
    {
     "data": {
      "text/html": [
       "<div>\n",
       "<style scoped>\n",
       "    .dataframe tbody tr th:only-of-type {\n",
       "        vertical-align: middle;\n",
       "    }\n",
       "\n",
       "    .dataframe tbody tr th {\n",
       "        vertical-align: top;\n",
       "    }\n",
       "\n",
       "    .dataframe thead th {\n",
       "        text-align: right;\n",
       "    }\n",
       "</style>\n",
       "<table border=\"1\" class=\"dataframe\">\n",
       "  <thead>\n",
       "    <tr style=\"text-align: right;\">\n",
       "      <th></th>\n",
       "      <th>Date</th>\n",
       "      <th>Cases</th>\n",
       "    </tr>\n",
       "  </thead>\n",
       "  <tbody>\n",
       "    <tr>\n",
       "      <th>0</th>\n",
       "      <td>2020-01-22</td>\n",
       "      <td>0</td>\n",
       "    </tr>\n",
       "    <tr>\n",
       "      <th>1</th>\n",
       "      <td>2020-01-23</td>\n",
       "      <td>0</td>\n",
       "    </tr>\n",
       "    <tr>\n",
       "      <th>2</th>\n",
       "      <td>2020-01-24</td>\n",
       "      <td>0</td>\n",
       "    </tr>\n",
       "    <tr>\n",
       "      <th>3</th>\n",
       "      <td>2020-01-25</td>\n",
       "      <td>0</td>\n",
       "    </tr>\n",
       "    <tr>\n",
       "      <th>4</th>\n",
       "      <td>2020-01-26</td>\n",
       "      <td>0</td>\n",
       "    </tr>\n",
       "    <tr>\n",
       "      <th>...</th>\n",
       "      <td>...</td>\n",
       "      <td>...</td>\n",
       "    </tr>\n",
       "    <tr>\n",
       "      <th>59</th>\n",
       "      <td>2020-03-21</td>\n",
       "      <td>53578</td>\n",
       "    </tr>\n",
       "    <tr>\n",
       "      <th>60</th>\n",
       "      <td>2020-03-22</td>\n",
       "      <td>59138</td>\n",
       "    </tr>\n",
       "    <tr>\n",
       "      <th>61</th>\n",
       "      <td>2020-03-23</td>\n",
       "      <td>63927</td>\n",
       "    </tr>\n",
       "    <tr>\n",
       "      <th>62</th>\n",
       "      <td>2020-03-24</td>\n",
       "      <td>69176</td>\n",
       "    </tr>\n",
       "    <tr>\n",
       "      <th>63</th>\n",
       "      <td>2020-03-25</td>\n",
       "      <td>74386</td>\n",
       "    </tr>\n",
       "  </tbody>\n",
       "</table>\n",
       "<p>64 rows × 2 columns</p>\n",
       "</div>"
      ],
      "text/plain": [
       "         Date  Cases\n",
       "0  2020-01-22      0\n",
       "1  2020-01-23      0\n",
       "2  2020-01-24      0\n",
       "3  2020-01-25      0\n",
       "4  2020-01-26      0\n",
       "..        ...    ...\n",
       "59 2020-03-21  53578\n",
       "60 2020-03-22  59138\n",
       "61 2020-03-23  63927\n",
       "62 2020-03-24  69176\n",
       "63 2020-03-25  74386\n",
       "\n",
       "[64 rows x 2 columns]"
      ]
     },
     "execution_count": 83,
     "metadata": {},
     "output_type": "execute_result"
    }
   ],
   "source": [
    "min_cases = 0\n",
    "df_italy = df_confirmed.loc[(df_confirmed['Country/Region'] == 'Italy') & (df_confirmed['Cases'] >= min_cases)]\n",
    "df_italy = df_italy['Cases'].to_frame('Cases').reset_index()[:]\n",
    "df_italy\n"
   ]
  },
  {
   "cell_type": "code",
   "execution_count": 84,
   "metadata": {},
   "outputs": [
    {
     "name": "stdout",
     "output_type": "stream",
     "text": [
      "a = 5.0035607136608595 +/- 0.06891286500537847\n",
      "b = 59.58643903339499 +/- 0.22392591512639404\n",
      "c = 112172.24801455934 +/- 2362.7491262597114\n",
      "errors [0.06891286500537847, 0.22392591512639404, 2362.7491262597114]\n",
      "Expected number of infected people at infection end: 112172.25 +/- 2362.75\n",
      "Infection peak in days from start: 59.59 +/- 0.22\n",
      "infection_peak_date 2020-03-21T00:00:00.000000000\n",
      "infection_peak_date_string\n",
      "days end 124\n",
      "infection_end_date_string 2020-05-25\n"
     ]
    }
   ],
   "source": [
    "df = df_italy['Cases'].to_frame('Cases').reset_index()[:]\n",
    "df\n",
    "x_it = df.index\n",
    "y_it = df['Cases']\n",
    "fit = curve_fit(logistic_model,x_it,y_it,p0=[2,25,100000])\n",
    "\n",
    "popt_it = fit[0] # optimized parameters\n",
    "pcov_it = fit[1] # covariance matrix\n",
    "           \n",
    "a = popt_it[0]\n",
    "b = popt_it[1]\n",
    "c = popt_it[2]\n",
    "\n",
    "print(\"a =\", popt_it[0], \"+/-\", pcov_it[0,0]**0.5)\n",
    "print(\"b =\", popt_it[1], \"+/-\", pcov_it[1,1]**0.5)\n",
    "print(\"c =\", popt_it[2], \"+/-\", pcov_it[2,2]**0.5)\n",
    "\n",
    "errors = [np.sqrt(fit[1][i][i]) for i in [0,1,2]]\n",
    "print('errors', errors)\n",
    "\n",
    "print('Expected number of infected people at infection end:', round(c,2), '+/-', round(errors[2],2))\n",
    "print('Infection peak in days from start:', round(b,2), '+/-', round(errors[1],2))\n",
    "\n",
    "infection_peak_date = np.datetime64(df_confirmed.index.values.min()) + np.timedelta64(int(round(b,2)),'D')\n",
    "print('infection_peak_date',infection_peak_date)\n",
    "\n",
    "infection_peak_date_string = np.datetime_as_string(infection_peak_date, unit='D')\n",
    "print('infection_peak_date_string')\n",
    "\n",
    "d = int(fsolve(lambda x_it : logistic_model(x_it,a,b,c) - int(c),b))\n",
    "print('days end', d)\n",
    "\n",
    "infection_end_date = np.datetime64(df_confirmed.index.values.min()) + np.timedelta64(int(round(d,2)),'D')\n",
    "\n",
    "infection_end_date_string = np.datetime_as_string(infection_end_date, unit='D')\n",
    "print('infection_end_date_string', infection_end_date_string)"
   ]
  },
  {
   "cell_type": "code",
   "execution_count": 85,
   "metadata": {},
   "outputs": [
    {
     "data": {
      "image/png": "[encoded data removed]",
      "text/plain": [
       "<Figure size 432x288 with 1 Axes>"
      ]
     },
     "metadata": {
      "needs_background": "light"
     },
     "output_type": "display_data"
    }
   ],
   "source": [
    "day_offset = 0\n",
    "x_italy = df_italy.index\n",
    "y_italy = df_italy['Cases']\n",
    "x_ext = np.arange(100)\n",
    "plt.scatter(x_italy, y_italy, color=\"red\", label=\"Italy Confirmed Cases\")\n",
    "\n",
    "# Fitted logistic curve\n",
    "plt.plot(x_ext+day_offset, [logistic_model(i, popt_it[0], popt_it[1], popt_it[2]*1) for i in x_ext], label=\"Logistic model\" )\n",
    "plt.legend()\n",
    "plt.xlabel(\"Days since \" + min_date)\n",
    "plt.ylabel(\"Total number of confirmed cases\")\n",
    "plt.title('Italy Logistic Model')\n",
    "plt.savefig('Italy Logistic Model.png')\n",
    "plt.show()"
   ]
  },
  {
   "cell_type": "code",
   "execution_count": 86,
   "metadata": {},
   "outputs": [
    {
     "data": {
      "text/plain": [
       "4.378341944444444"
      ]
     },
     "execution_count": 86,
     "metadata": {},
     "output_type": "execute_result"
    }
   ],
   "source": [
    "italy_china_hubei_pop_factor = pop_dict['US Total']/pop_dict['China Hubei']\n",
    "italy_china_hubei_pop_factor"
   ]
  },
  {
   "cell_type": "code",
   "execution_count": 87,
   "metadata": {},
   "outputs": [
    {
     "data": {
      "text/plain": [
       "5.474572517872682"
      ]
     },
     "execution_count": 87,
     "metadata": {},
     "output_type": "execute_result"
    }
   ],
   "source": [
    "us_italy_pop_factor = pop_dict['US Total']/pop_dict['Italy']\n",
    "us_italy_pop_factor"
   ]
  },
  {
   "cell_type": "code",
   "execution_count": 88,
   "metadata": {},
   "outputs": [
    {
     "data": {
      "image/png": "[encoded data removed]",
      "text/plain": [
       "<Figure size 864x576 with 1 Axes>"
      ]
     },
     "metadata": {
      "needs_background": "light"
     },
     "output_type": "display_data"
    }
   ],
   "source": [
    "italy_day_offset_day_offset = 15\n",
    "x_us = df_us.index\n",
    "y_us = df_us['Cases']\n",
    "x_ext = np.arange(100)\n",
    "\n",
    "plt.figure(figsize=(12,8))\n",
    "plt.scatter(x_us, y_us, color=\"red\", marker='o', s=20, label=\"US Confirmed Cases\")\n",
    "\n",
    "# Fitted logistic curve\n",
    "plt.plot(x_ext+italy_day_offset_day_offset, [logistic_model(i, popt_it[0], popt_it[1], popt_it[2]*us_italy_pop_factor) for i in x_ext], label=\"Logistic model\" )\n",
    "plt.legend()\n",
    "plt.xlabel(\"Days since \" + min_date)\n",
    "plt.ylabel(\"Total number of confirmed cases\")\n",
    "plt.title('Scaled Italy Logistic Model, US Data')\n",
    "plt.savefig('Scaled Italy Logistic Model, US Data.png')\n",
    "plt.show()"
   ]
  },
  {
   "cell_type": "markdown",
   "metadata": {},
   "source": [
    "US Model"
   ]
  },
  {
   "cell_type": "code",
   "execution_count": 89,
   "metadata": {},
   "outputs": [
    {
     "data": {
      "text/html": [
       "<div>\n",
       "<style scoped>\n",
       "    .dataframe tbody tr th:only-of-type {\n",
       "        vertical-align: middle;\n",
       "    }\n",
       "\n",
       "    .dataframe tbody tr th {\n",
       "        vertical-align: top;\n",
       "    }\n",
       "\n",
       "    .dataframe thead th {\n",
       "        text-align: right;\n",
       "    }\n",
       "</style>\n",
       "<table border=\"1\" class=\"dataframe\">\n",
       "  <thead>\n",
       "    <tr style=\"text-align: right;\">\n",
       "      <th></th>\n",
       "      <th>index</th>\n",
       "      <th>Cases</th>\n",
       "    </tr>\n",
       "  </thead>\n",
       "  <tbody>\n",
       "    <tr>\n",
       "      <th>0</th>\n",
       "      <td>0</td>\n",
       "      <td>1</td>\n",
       "    </tr>\n",
       "    <tr>\n",
       "      <th>1</th>\n",
       "      <td>1</td>\n",
       "      <td>1</td>\n",
       "    </tr>\n",
       "    <tr>\n",
       "      <th>2</th>\n",
       "      <td>2</td>\n",
       "      <td>2</td>\n",
       "    </tr>\n",
       "    <tr>\n",
       "      <th>3</th>\n",
       "      <td>3</td>\n",
       "      <td>2</td>\n",
       "    </tr>\n",
       "    <tr>\n",
       "      <th>4</th>\n",
       "      <td>4</td>\n",
       "      <td>5</td>\n",
       "    </tr>\n",
       "  </tbody>\n",
       "</table>\n",
       "</div>"
      ],
      "text/plain": [
       "   index  Cases\n",
       "0      0      1\n",
       "1      1      1\n",
       "2      2      2\n",
       "3      3      2\n",
       "4      4      5"
      ]
     },
     "execution_count": 89,
     "metadata": {},
     "output_type": "execute_result"
    }
   ],
   "source": [
    "df = df_us['Cases'].to_frame('Cases').reset_index()[:]\n",
    "df.head()"
   ]
  },
  {
   "cell_type": "code",
   "execution_count": 90,
   "metadata": {},
   "outputs": [
    {
     "name": "stdout",
     "output_type": "stream",
     "text": [
      "a = 2.6724994941322335 +/- 0.043439387721813404\n",
      "b = 62.59048640008561 +/- 0.17957669530773676\n",
      "c = 121934.80079409147 +/- 4234.752473391259\n",
      "errors [0.043439387721813404, 0.17957669530773676, 4234.752473391259]\n",
      "Expected number of infected people at infection end: 121934.8 +/- 4234.75\n",
      "Infection peak in days from start: 62.59 +/- 0.18\n",
      "us_inflection_date 2020-03-24T00:00:00.000000000\n",
      "us_inflection_date_string 2020-03-24\n",
      "days end 94\n",
      "infection_end_date_string 2020-05-25\n"
     ]
    }
   ],
   "source": [
    "df = df_us['Cases'].to_frame('Cases').reset_index()[:]\n",
    "df\n",
    "x_us = df.index\n",
    "y_us = df['Cases']\n",
    "fit = curve_fit(logistic_model,x_us,y_us,p0=[2,25,100000])\n",
    "\n",
    "popt_us = fit[0] # optimized parameters\n",
    "pcov_us = fit[1] # covariance matrix\n",
    "           \n",
    "a = popt_us[0]\n",
    "b = popt_us[1]\n",
    "c = popt_us[2]\n",
    "\n",
    "print(\"a =\", popt_us[0], \"+/-\", pcov_us[0,0]**0.5)\n",
    "print(\"b =\", popt_us[1], \"+/-\", pcov_us[1,1]**0.5)\n",
    "print(\"c =\", popt_us[2], \"+/-\", pcov_us[2,2]**0.5)\n",
    "\n",
    "errors = [np.sqrt(fit[1][i][i]) for i in [0,1,2]]\n",
    "print('errors', errors)\n",
    "\n",
    "print('Expected number of infected people at infection end:', round(c,2), '+/-', round(errors[2],2))\n",
    "print('Infection peak in days from start:', round(b,2), '+/-', round(errors[1],2))\n",
    "\n",
    "us_inflection_date = np.datetime64(df_confirmed.index.values.min()) + np.timedelta64(int(round(b,2)),'D')\n",
    "print('us_inflection_date',us_inflection_date)\n",
    "\n",
    "us_inflection_date_string = np.datetime_as_string(us_inflection_date, unit='D')\n",
    "print('us_inflection_date_string', us_inflection_date_string)\n",
    "\n",
    "d = int(fsolve(lambda x_it : logistic_model(x_it,a,b,c) - int(c),b))\n",
    "print('days end', d)\n",
    "\n",
    "us_inflection_end_date = np.datetime64(df_confirmed.index.values.min()) + np.timedelta64(int(round(d,2)),'D')\n",
    "\n",
    "us_inflection_end_date_string = np.datetime_as_string(us_inflection_end_date, unit='D')\n",
    "print('infection_end_date_string', infection_end_date_string)"
   ]
  },
  {
   "cell_type": "code",
   "execution_count": 91,
   "metadata": {},
   "outputs": [
    {
     "data": {
      "image/png": "[encoded data removed]",
      "text/plain": [
       "<Figure size 864x576 with 1 Axes>"
      ]
     },
     "metadata": {
      "needs_background": "light"
     },
     "output_type": "display_data"
    }
   ],
   "source": [
    "us_day_offset = 0\n",
    "x_us = df_us.index\n",
    "y_us = df_us['Cases']\n",
    "x_ext = np.arange(100)\n",
    "\n",
    "plt.figure(figsize=(12,8))\n",
    "plt.scatter(x_us, y_us, color=\"red\", marker='o', s=20, label=\"US Confirmed Cases\")\n",
    "\n",
    "# Fitted logistic curve\n",
    "plt.plot(x_ext+us_day_offset, [logistic_model(i, popt_us[0], popt_us[1], popt_us[2]*1) for i in x_ext], label=\"Logistic model\" )\n",
    "plt.legend()\n",
    "plt.xlabel(\"Days since \" + min_date)\n",
    "plt.ylabel(\"Total number of confirmed cases\")\n",
    "plt.title('Logistic Model, US Data')\n",
    "plt.savefig('US Logistic Model, US Data.png')\n",
    "plt.show()"
   ]
  },
  {
   "cell_type": "code",
   "execution_count": null,
   "metadata": {},
   "outputs": [],
   "source": []
  },
  {
   "cell_type": "code",
   "execution_count": 92,
   "metadata": {},
   "outputs": [
    {
     "data": {
      "image/png": "[encoded data removed]",
      "text/plain": [
       "<Figure size 864x576 with 1 Axes>"
      ]
     },
     "metadata": {
      "needs_background": "light"
     },
     "output_type": "display_data"
    }
   ],
   "source": [
    "us_day_offset = 0\n",
    "x_us = df_us.index\n",
    "y_us = df_us['Cases']\n",
    "x_ext = np.arange(100)\n",
    "\n",
    "plt.figure(figsize=(12,8))\n",
    "plt.scatter(x_us, y_us, color=\"red\", marker='o', s=20, label=\"US Confirmed Cases\")\n",
    "\n",
    "# Fitted logistic curve\n",
    "plt.plot(x_ext+us_day_offset, [logistic_model(i, popt_us[0], popt_us[1], popt_us[2]*1) for i in x_ext], label=\"Logistic model\" )\n",
    "plt.legend()\n",
    "plt.xlabel(\"Days since \" + min_date)\n",
    "plt.ylabel(\"Total number of confirmed cases\")\n",
    "plt.title('Logistic Model, US Data')\n",
    "plt.savefig('US Logistic Model, US Data.png')\n",
    "plt.show()"
   ]
  },
  {
   "cell_type": "code",
   "execution_count": 93,
   "metadata": {},
   "outputs": [
    {
     "data": {
      "image/png": "[encoded data removed]",
      "text/plain": [
       "<Figure size 504x180 with 1 Axes>"
      ]
     },
     "metadata": {
      "needs_background": "light"
     },
     "output_type": "display_data"
    }
   ],
   "source": [
    "import matplotlib.pyplot as plt\n",
    "import matplotlib.patches as mpatches\n",
    "from matplotlib.colors import colorConverter as cc\n",
    "import numpy as np\n",
    " \n",
    "def plot_mean_and_CI(mean, lb, ub, color_mean=None, color_shading=None):\n",
    "    # plot the shaded range of the confidence intervals\n",
    "    plt.fill_between(range(mean.shape[0]), ub, lb,\n",
    "                     color=color_shading, alpha=.5)\n",
    "    # plot the mean on top\n",
    "    plt.plot(mean, color_mean)\n",
    " \n",
    "# generate 3 sets of random means and confidence intervals to plot\n",
    "mean0 = np.random.random(50)\n",
    "ub0 = mean0 + np.random.random(50) + .5\n",
    "lb0 = mean0 - np.random.random(50) - .5\n",
    " \n",
    "mean1 = np.random.random(50) + 2\n",
    "ub1 = mean1 + np.random.random(50) + .5\n",
    "lb1 = mean1 - np.random.random(50) - .5\n",
    " \n",
    "mean2 = np.random.random(50) -1\n",
    "ub2 = mean2 + np.random.random(50) + .5\n",
    "lb2 = mean2 - np.random.random(50) - .5\n",
    " \n",
    "# plot the data\n",
    "fig = plt.figure(1, figsize=(7, 2.5))\n",
    "plot_mean_and_CI(mean1, ub1, lb1, color_mean='b', color_shading='b')\n",
    "\n",
    " \n",
    "class LegendObject(object):\n",
    "    def __init__(self, facecolor='red', edgecolor='white', dashed=False):\n",
    "        self.facecolor = facecolor\n",
    "        self.edgecolor = edgecolor\n",
    "        self.dashed = dashed\n",
    " \n",
    "    def legend_artist(self, legend, orig_handle, fontsize, handlebox):\n",
    "        x0, y0 = handlebox.xdescent, handlebox.ydescent\n",
    "        width, height = handlebox.width, handlebox.height\n",
    "        patch = mpatches.Rectangle(\n",
    "            # create a rectangle that is filled with color\n",
    "            [x0, y0], width, height, facecolor=self.facecolor,\n",
    "            # and whose edges are the faded color\n",
    "            edgecolor=self.edgecolor, lw=3)\n",
    "        handlebox.add_artist(patch)\n",
    " \n",
    "        # if we're creating the legend for a dashed line,\n",
    "        # manually add the dash in to our rectangle\n",
    "        if self.dashed:\n",
    "            patch1 = mpatches.Rectangle(\n",
    "                [x0 + 2*width/5, y0], width/5, height, facecolor=self.edgecolor,\n",
    "                transform=handlebox.get_transform())\n",
    "            handlebox.add_artist(patch1)\n",
    " \n",
    "        return patch\n",
    " \n",
    "bg = np.array([1, 1, 1])  # background of the legend is white\n",
    "colors = ['black', 'blue', 'green']\n",
    "# with alpha = .5, the faded color is the average of the background and color\n",
    "colors_faded = [(np.array(cc.to_rgb(color)) + bg) / 2.0 for color in colors]\n",
    " \n",
    "plt.legend([0, 1, 2], ['Data 0', 'Data 1', 'Data 2'],\n",
    "           handler_map={\n",
    "               0: LegendObject(colors[0], colors_faded[0]),\n",
    "               1: LegendObject(colors[1], colors_faded[1]),\n",
    "               2: LegendObject(colors[2], colors_faded[2], dashed=True),\n",
    "            })\n",
    " \n",
    "plt.title('Example mean and confidence interval plot')\n",
    "plt.tight_layout()\n",
    "plt.grid()\n",
    "plt.show()"
   ]
  },
  {
   "cell_type": "code",
   "execution_count": null,
   "metadata": {},
   "outputs": [],
   "source": []
  },
  {
   "cell_type": "markdown",
   "metadata": {},
   "source": [
    "Fit exponential function"
   ]
  },
  {
   "cell_type": "code",
   "execution_count": 94,
   "metadata": {},
   "outputs": [
    {
     "data": {
      "image/png": "[encoded data removed]",
      "text/plain": [
       "<Figure size 432x288 with 1 Axes>"
      ]
     },
     "metadata": {
      "needs_background": "light"
     },
     "output_type": "display_data"
    },
    {
     "name": "stdout",
     "output_type": "stream",
     "text": [
      "The equation of regression line is y=51.6062*1.2557^x\n"
     ]
    }
   ],
   "source": [
    "import numpy as np\n",
    "import matplotlib.pyplot as plt\n",
    "from scipy.optimize import curve_fit\n",
    "%matplotlib inline\n",
    "\n",
    "day = np.arange(0,8)\n",
    "weight = np.sort( np.array([251,209,157,129,103,81,66,49]) )\n",
    "\n",
    "def func3(x, a, b):\n",
    "    return a * b ** x\n",
    "popt, pcov = curve_fit(func3, day, weight, p0=[1, 1e-6])\n",
    "x_plot=np.linspace(0,7,100)\n",
    "plt.plot(x_plot, func3(x_plot, *popt), 'r-')\n",
    "plt.scatter(day,weight,label='Day vs Weight')\n",
    "plt.title(\"Day vs Weight a*b^x\")\n",
    "plt.xlabel('Day')\n",
    "plt.ylabel('Weight')\n",
    "plt.legend()\n",
    "plt.show()\n",
    "# equation\n",
    "a=popt[0].round(4)\n",
    "b=popt[1].round(4)\n",
    "print(f'The equation of regression line is y={a}*{b}^x')"
   ]
  },
  {
   "cell_type": "code",
   "execution_count": 95,
   "metadata": {},
   "outputs": [
    {
     "data": {
      "image/png": "[encoded data removed]",
      "text/plain": [
       "<Figure size 432x288 with 1 Axes>"
      ]
     },
     "metadata": {
      "needs_background": "light"
     },
     "output_type": "display_data"
    },
    {
     "name": "stdout",
     "output_type": "stream",
     "text": [
      "The equation of regression line is y=-0.0*0.0^x\n"
     ]
    }
   ],
   "source": [
    "import numpy as np\n",
    "import matplotlib.pyplot as plt\n",
    "from scipy.optimize import curve_fit\n",
    "%matplotlib inline\n",
    "\n",
    "day = np.arange(0,8)\n",
    "weight = np.sort( np.array([251,209,157,129,103,81,66,49]) )\n",
    "\n",
    "x_italy = df_italy.index\n",
    "y_italy = df_italy['Cases']\n",
    "x_ext = np.arange(100)\n",
    "\n",
    "def func3(x, a, b):\n",
    "    return a * b ** x\n",
    "# popt, pcov = curve_fit(func3, day, weight, p0=[1, 1e-6])\n",
    "popt, pcov = curve_fit(func3, x_italy, y_italy, p0=[1, 1e-6])\n",
    "# x_plot=np.linspace(0,7,100)\n",
    "plt.plot(x_italy, func3(x_italy, *popt), 'r-')\n",
    "plt.scatter(x_italy,y_italy,label='Day vs Weight')\n",
    "plt.title(\"Day vs Weight a*b^x\")\n",
    "plt.xlabel('Day')\n",
    "plt.ylabel('Weight')\n",
    "plt.legend()\n",
    "plt.show()\n",
    "# equation\n",
    "a=popt[0].round(4)\n",
    "b=popt[1].round(4)\n",
    "print(f'The equation of regression line is y={a}*{b}^x')"
   ]
  },
  {
   "cell_type": "code",
   "execution_count": 96,
   "metadata": {
    "scrolled": true
   },
   "outputs": [
    {
     "name": "stdout",
     "output_type": "stream",
     "text": [
      "Total US Cases South Korea Model 55547.0\n",
      "Total US Cases China Hubei Model 296554.0\n",
      "Total US Cases Italy Model 614095.0\n"
     ]
    }
   ],
   "source": [
    "st = ''\n",
    "s = 'Total US Cases South Korea Model ' + str( round(popt_sk[2]*us_sk_pop_factor) )\n",
    "print(s)\n",
    "st = s + '\\n'\n",
    "s = 'Total US Cases China Hubei Model ' + str( round(popt_ch_hb[2]*us_china_hubei_pop_factor) )\n",
    "print(s)\n",
    "st = st + s + '\\n'\n",
    "s = 'Total US Cases Italy Model ' + str( round(popt_it[2]*us_italy_pop_factor) )\n",
    "print(s)\n",
    "st = st + s + '\\n'\n"
   ]
  },
  {
   "cell_type": "code",
   "execution_count": 97,
   "metadata": {},
   "outputs": [
    {
     "data": {
      "image/png": "[encoded data removed]",
      "text/plain": [
       "<Figure size 432x144 with 1 Axes>"
      ]
     },
     "metadata": {
      "needs_background": "light"
     },
     "output_type": "display_data"
    }
   ],
   "source": [
    "import matplotlib.pyplot as plt\n",
    "\n",
    "fig, ax = plt.subplots(figsize=(6,2))\n",
    "plt.axis([0, 6, 0, 10], fontsize=18, frameon=False)\n",
    "ax.axis('off')\n",
    "plt.text(0, 10, st, ha='left', rotation=0, va='top', wrap=True)\n",
    "plt.savefig('US Covid cases numbers.png')\n",
    "\n",
    "plt.show()"
   ]
  },
  {
   "cell_type": "code",
   "execution_count": 107,
   "metadata": {},
   "outputs": [
    {
     "name": "stdout",
     "output_type": "stream",
     "text": [
      "US Inflection Date South Korea Model 2020-03-20\n",
      "US Spread Tail Off Date South Korea Model 2020-05-17\n",
      "\n",
      "US Inflection Date China Hubei Model 2020-04-01\n",
      "US Spread Tail Off Date China Hubei Model 2020-06-10\n",
      "\n",
      "US Inflection Date Italy Model 2020-04-05\n",
      "US Inflection Date Italy Model 2020-06-18\n",
      "\n"
     ]
    }
   ],
   "source": [
    "sk_inflection = 58\n",
    "sk_inflection_date = np.datetime64(df_confirmed.index.values.min()) + np.timedelta64(int(round(sk_inflection,2)),'D')\n",
    "sk_inflection_end_date = np.datetime64(df_confirmed.index.values.min()) + np.timedelta64(int(round(sk_inflection*2,2)),'D')\n",
    "sk_inflection_date_string = np.datetime_as_string(sk_inflection_date, unit='D')\n",
    "st = ''\n",
    "s = 'US Inflection Date South Korea Model' + ' ' + sk_inflection_date_string\n",
    "st = st + '\\n' + s\n",
    "print(s)\n",
    "sk_inflection_end_date_string = np.datetime_as_string(sk_inflection_end_date, unit='D')\n",
    "s = 'US Spread Tail Off Date South Korea Model' + ' ' + sk_inflection_end_date_string\n",
    "st = st + '\\n' + s\n",
    "print(s)\n",
    "st = st + '\\n' \n",
    "print()\n",
    "\n",
    "ch_hb_inflection = 70\n",
    "ch_hb_inflection_date = np.datetime64(df_confirmed.index.values.min()) + np.timedelta64(int(round(ch_hb_inflection,2)),'D')\n",
    "ch_hb_inflection_end_date = np.datetime64(df_confirmed.index.values.min()) + np.timedelta64(int(round(ch_hb_inflection*2,2)),'D')\n",
    "ch_hb_inflection_date_string = np.datetime_as_string(ch_hb_inflection_date, unit='D')\n",
    "s = 'US Inflection Date China Hubei Model' + ' ' + ch_hb_inflection_date_string\n",
    "st = st + '\\n' + s\n",
    "print(s)\n",
    "ch_hb_inflection_end_date_string = np.datetime_as_string(ch_hb_inflection_end_date, unit='D')\n",
    "s = 'US Spread Tail Off Date China Hubei Model' + ' ' + ch_hb_inflection_end_date_string\n",
    "st = st + '\\n' + s\n",
    "print(s)\n",
    "st = st + '\\n' \n",
    "print()\n",
    "\n",
    "it_inflection = 74\n",
    "it_inflection_date = np.datetime64(df_confirmed.index.values.min()) + np.timedelta64(int(round(it_inflection,2)),'D')\n",
    "it_inflection_end_date = np.datetime64(df_confirmed.index.values.min()) + np.timedelta64(int(round(it_inflection*2,2)),'D')\n",
    "it_inflection_end_date_string = np.datetime_as_string(it_inflection_end_date, unit='D')\n",
    "it_inflection_date_string = np.datetime_as_string(it_inflection_date, unit='D')\n",
    "s = 'US Inflection Date Italy Model' + ' ' + it_inflection_date_string\n",
    "st = st + '\\n' + s\n",
    "print(s)\n",
    "it_inflection_end_date_string = np.datetime_as_string(it_inflection_end_date, unit='D')\n",
    "s = 'US Inflection Date Italy Model' + ' ' + it_inflection_end_date_string\n",
    "st = st + '\\n' + s\n",
    "print(s)\n",
    "st = st + '\\n' \n",
    "print()\n"
   ]
  },
  {
   "cell_type": "code",
   "execution_count": 112,
   "metadata": {},
   "outputs": [
    {
     "data": {
      "image/png": "[encoded data removed]",
      "text/plain": [
       "<Figure size 864x864 with 1 Axes>"
      ]
     },
     "metadata": {
      "needs_background": "light"
     },
     "output_type": "display_data"
    }
   ],
   "source": [
    "import datetime\n",
    "from datetime import date\n",
    "max_date = date.today()\n",
    "max_date\n",
    "\n",
    "italy_day_offset_day_offset = 14\n",
    "x_us = df_us.index\n",
    "y_us = df_us['Cases']\n",
    "x_ext = np.arange(100)\n",
    "x_ext_ch_hb = np.arange(100)-30\n",
    "x_ext_exp = np.arange(81)\n",
    "\n",
    "fig, ax = plt.subplots(figsize=(12,12), constrained_layout=True)\n",
    "# plt.figure(figsize=(16,12))\n",
    "degrees = 70\n",
    "plt.xticks(rotation=degrees)\n",
    "\n",
    "d = [np.datetime64('2020-01-22') + np.timedelta64(i,'D') for i in x_ext if i<len(x_us)]\n",
    "\n",
    "# Fitted logistic curve\n",
    "plt.plot([np.datetime64('2020-01-22') + np.timedelta64(i+sk_day_offset,'D') for i in x_ext], [logistic_model(i, popt_sk[0], popt_sk[1], popt_sk[2]*us_sk_pop_factor) for i in x_ext], label=\"S. Korea Model\", color=\"green\")\n",
    "plt.plot([np.datetime64('2020-01-22') + np.timedelta64(i+ch_hb_day_offset,'D') for i in x_ext_ch_hb], [logistic_model(i, popt_ch_hb[0], popt_ch_hb[1], popt_ch_hb[2]*us_china_hubei_pop_factor) for i in x_ext_ch_hb], label=\"China Hubei Model\", color=\"blue\"  )\n",
    "plt.plot([np.datetime64('2020-01-22') + np.timedelta64(i+italy_day_offset_day_offset,'D') for i in x_ext], [logistic_model(i, popt_it[0], popt_it[1], popt_it[2]*us_italy_pop_factor) for i in x_ext], label=\"Italy Model\", color=\"red\"  )\n",
    "plt.plot([np.datetime64('2020-01-22') + np.timedelta64(i,'D') for i in x_ext_exp], 1.15**(x_ext_exp+16), label=\"Exponential Growth\", color=\"orange\" )\n",
    "plt.scatter(d, y_us, color=\"purple\", marker='o', s=20, label=\"US Confirmed Cases\")\n",
    "\n",
    "plt.plot([np.datetime64('2020-01-22') + np.timedelta64(i,'D') for i in x_ext], [logistic_model(i, popt_us[0], popt_us[1], popt_us[2]*1) for i in x_ext], label=\"US Model\", color=\"purple\"  )\n",
    "\n",
    "plt.legend()\n",
    "\n",
    "x_text_offset = 10\n",
    "y_text_offset = 5000\n",
    "style = dict(size=10, color='red')\n",
    "plt.scatter(it_inflection_date, popt_it[2]/2*us_italy_pop_factor, color='red')\n",
    "do = np.datetime_as_string( np.datetime64(it_inflection_date_string) + np.timedelta64(-30,'D') )\n",
    "ax.text(do, round(popt_it[2]/2*us_italy_pop_factor), 'Peak rate of increase in new cases \\nof ' + str(int(popt_it[2]/2*us_italy_pop_factor)) + ' on '+ it_inflection_date_string + '\\n(Italy Model)', **style)\n",
    "do = np.datetime_as_string( np.datetime64(it_inflection_date_string) + np.timedelta64(20,'D') )\n",
    "ax.text(do, round(popt_it[2]*us_italy_pop_factor)+y_text_offset, 'New US COVID cases stable\\non ' + it_inflection_end_date_string + ' at ' + str(int(popt_it[2]*us_italy_pop_factor)) + '\\n(Italy Model)', **style)\n",
    "\n",
    "style = dict(size=10, color='blue')\n",
    "plt.scatter(ch_hb_inflection_date, popt_ch_hb[2]/2*us_china_hubei_pop_factor, color='green')\n",
    "do = np.datetime_as_string( np.datetime64(ch_hb_inflection_date_string) + np.timedelta64(-32,'D') )\n",
    "ax.text(do, round(popt_ch_hb[2]/2*us_china_hubei_pop_factor), 'Peak rate of increase in new cases \\nof ' + str(int(popt_ch_hb[2]/2*us_china_hubei_pop_factor)) + ' on '+ ch_hb_inflection_date_string + '\\n(China Hubei Model)', **style)\n",
    "do = np.datetime_as_string( np.datetime64(ch_hb_inflection_date_string) + np.timedelta64(15,'D') )\n",
    "ax.text(do, round(popt_ch_hb[2]*us_china_hubei_pop_factor)+y_text_offset, 'New US COVID cases stable \\non ' + ch_hb_inflection_end_date_string + ' at ' + str(int(popt_ch_hb[2]*us_china_hubei_pop_factor)) + '\\n(China Hubei Model)', **style)\n",
    "\n",
    "style = dict(size=10, color='green')\n",
    "plt.scatter(sk_inflection_date, popt_sk[2]/2*us_sk_pop_factor, color='green')\n",
    "do = np.datetime_as_string( np.datetime64(sk_inflection_date_string) + np.timedelta64(-30,'D') )\n",
    "ax.text(do, round(popt_sk[2]/2*us_sk_pop_factor)-10000, 'Peak rate of increase in new cases \\nof ' + str(int(popt_sk[2]/2*us_sk_pop_factor)) + ' on '+ sk_inflection_date_string + '\\n(S. Korea Model)', **style)\n",
    "do = np.datetime_as_string( np.datetime64(sk_inflection_date_string) + np.timedelta64(14,'D') )\n",
    "ax.text(do, round(popt_sk[2]*us_sk_pop_factor)+y_text_offset, 'New COVID cases stable \\non ' + sk_inflection_end_date_string + ' at ' + str(int(popt_sk[2]*us_sk_pop_factor)) + '\\n(S. Korea Model)', **style)\n",
    "\n",
    "style = dict(size=10, color='purple')\n",
    "plt.scatter(us_inflection_date, popt_us[2]/2*1, color='purple')\n",
    "do = np.datetime_as_string( np.datetime64(us_inflection_date_string) + np.timedelta64(-28,'D') )\n",
    "ax.text(do, round(popt_us[2]/2*1)+y_text_offset, 'Peak rate of increase in new cases \\nof ' + str(int(popt_us[2]/2*1)) + ' on '+ us_inflection_date_string + '\\n(US Model)', **style)\n",
    "do = np.datetime_as_string( np.datetime64(us_inflection_date_string) + np.timedelta64(18,'D') )\n",
    "ax.text(do, round(popt_us[2]*1)+y_text_offset, 'New COVID cases stable \\non ' + us_inflection_end_date_string + ' at ' + str(int(popt_us[2]*1)) + '\\n(US Model)', **style)\n",
    "\n",
    "us_inflection_end_date_string\n",
    "\n",
    "# ax.annotate('local minimum', xy=(5 * np.pi, -1), xytext=(2, -6),\n",
    "#             arrowprops=dict(arrowstyle=\"->\",\n",
    "#                             connectionstyle=\"angle3,angleA=0,angleB=-90\"));\n",
    "\n",
    "# plt.xlabel(\"Days since \" + min_date)\n",
    "plt.ylabel(\"Total US confirmed cases\")\n",
    "plt.suptitle('US COVID-19 Scenario Analysis')\n",
    "plt.title('Projections for US Cases following the South Korea, Hubei Province (China), and Italy Trajectories')\n",
    "plt.savefig('Projections for US Cases following the South Korea, Hubei Province (China), and Italy Trajectories.png')\n",
    "plt.show()"
   ]
  },
  {
   "cell_type": "code",
   "execution_count": null,
   "metadata": {},
   "outputs": [],
   "source": [
    "# b: blue\n",
    "# g: green\n",
    "# r: red\n",
    "# c: cyan\n",
    "# m: magenta\n",
    "# y: yellow\n",
    "# k: black\n",
    "# w: white"
   ]
  },
  {
   "cell_type": "code",
   "execution_count": null,
   "metadata": {},
   "outputs": [],
   "source": [
    "day_offset = 17\n",
    "x_us = df_us.index\n",
    "y_us = df_us['Cases']\n",
    "x_ext = np.arange(100)\n",
    "plt.figure(figsize=(16,12))\n",
    "\n",
    "# Fitted logistic curve\n",
    "plt.plot(x_ext+sk_day_offset, [logistic_model(i, popt_sk[0], popt_sk[1], popt_sk[2]*us_sk_pop_factor) for i in x_ext], label=\"S. Korea Model\" )\n",
    "plt.plot(x_ext+ch_hb_day_offset, [logistic_model(i, popt_ch_hb[0], popt_ch_hb[1], popt_ch_hb[2]*us_china_hubei_pop_factor) for i in x_ext], label=\"China Hubei Model\" )\n",
    "plt.plot(x_ext+italy_day_offset_day_offset, [logistic_model(i, popt_it[0], popt_it[1], popt_it[2]*us_italy_pop_factor) for i in x_ext], label=\"Italy Model\" )\n",
    "plt.plot(x_ext_exp, 1.15**(x_ext_exp+16), label=\"Exponential Growth\")\n",
    "plt.legend()\n",
    "plt.xlabel(\"Days since \" + min_date)\n",
    "plt.ylabel(\"Total number of confirmed cases\")\n",
    "plt.title('US Population Scaled S. Korea, China Hubei, and Italy Logistic Models')\n",
    "plt.savefig('US Population Scaled S. Korea, China Hubei, and Italy Logistic Models.png')\n",
    "plt.show()"
   ]
  },
  {
   "cell_type": "code",
   "execution_count": null,
   "metadata": {},
   "outputs": [],
   "source": []
  },
  {
   "cell_type": "code",
   "execution_count": null,
   "metadata": {},
   "outputs": [],
   "source": [
    "from scipy import optimize\n",
    "import matplotlib.pyplot as plt\n",
    "import numpy as np\n",
    "%matplotlib inline\n",
    "\n",
    "x = np.array([1, 2, 3, 4, 5, 6, 7, 8, 9, 10 ,11, 12, 13, 14, 15], dtype=float)\n",
    "y = np.array([5, 7, 9, 11, 13, 15, 28.92, 42.81, 56.7, 70.59, 84.47, 98.36, 112.25, 126.14, 140.03])\n",
    "\n",
    "def piecewise_linear(x, x0, y0, k1, k2):\n",
    "    return np.piecewise(x, [x < x0], [lambda x:k1*x + y0-k1*x0, lambda x:k2*x + y0-k2*x0])\n",
    "\n",
    "p , e = optimize.curve_fit(piecewise_linear, x, y)\n",
    "xd = np.linspace(0, 15, 100)\n",
    "plt.plot(x, y, \"o\")\n",
    "plt.plot(xd, piecewise_linear(xd, *p))"
   ]
  },
  {
   "cell_type": "code",
   "execution_count": null,
   "metadata": {},
   "outputs": [],
   "source": []
  },
  {
   "cell_type": "code",
   "execution_count": null,
   "metadata": {},
   "outputs": [],
   "source": [
    "#Piece-Wise Polynomial Curve Fitting Degree (1-5)\n",
    "\n",
    "# 1) Importing Libraries/Modules\n",
    "import matplotlib.pyplot as plt  \t\t\t\t\t#for plotting\n",
    "import numpy as np      \t\t\t\t\t        #for creating array\n",
    "from scipy.optimize import curve_fit as cf \t\t\t#for the curve fit function\n",
    "\n",
    "\n",
    "# 2) Extracting Data\n",
    "\n",
    "def file_reader():\n",
    "\n",
    "\ttemp=[]\n",
    "\tcp=[]\n",
    "\tfor line in open('data_pw','r'):\n",
    "\t\ttemp_cp = line.split(',')\n",
    "\t\ttemp.append(int(temp_cp[0]))\n",
    "\t\tcp.append(float(temp_cp[1]))\n",
    "\treturn temp,cp\n",
    "\n",
    "T,CP = file_reader()\n",
    "\n",
    "# 3) Creating Fucntions for the fit \n",
    "\n",
    "def poly1(t,A,B):\n",
    "\treturn A*t + B\n",
    "\n",
    "def poly2(t,A,B,C):\n",
    "\treturn A*pow(t,2) + B*t + C\n",
    "\n",
    "''' \n",
    "If there exists a part in the curve where it behaves exponentially, then the defition could be like:\n",
    "def expo(t,A,B,C):\n",
    "\treturn A*np.exp(-B*t) + C\n",
    "Similarly any equation that seems to fit can be passed to the curve_fit function according to the need.\n",
    "'''\n",
    "\n",
    "\n",
    "# 4) Splitting the data into ranges \n",
    "\n",
    "\n",
    "# \t4.1) Part1 T = 300-600\n",
    "\n",
    "function1=poly2 \t #calls on the desired function\n",
    "T300_600=T[:300]\t #uses only the first 300 values\n",
    "CP300_600=CP[:300]\n",
    "\n",
    "T1 = np.linspace(300,600,300) \t           #creates a line space equal to the length of T300_600\n",
    "p1, p2 = cf(function1,T300_600,CP300_600)  #p1= popt and p2 = pcov\n",
    "fit300_600 = function1(T1,*p1)\t\t\t   #gives the estimated equation for the set values\n",
    "\n",
    "\n",
    "# \t4.2) Part2 T = 600-1000\n",
    "function2 = poly2\n",
    "T600_1000=T[300:700]\n",
    "CP600_1000=CP[300:700]\n",
    "\n",
    "T2 = np.linspace(600,1000,400)\n",
    "p1, p2 = cf(function2,T600_1000,CP600_1000)\n",
    "fit600_1000 = function2(T2,*p1)\n",
    "\n",
    "\n",
    "# \t4.3) Part3 T = 1000-1500\n",
    "function3 = poly2\n",
    "T1000_1500=T[700:1200]\n",
    "CP1000_1500=CP[700:1200]\n",
    "\n",
    "T3 = np.linspace(1000,1500,500)\n",
    "p1, p2 = cf(function2,T1000_1500,CP1000_1500)\n",
    "fit1000_1500 = function3(T3,*p1)\n",
    "\n",
    "\n",
    "# \t4.4) Part4 T= 1500-3499\n",
    "function4 = poly2\n",
    "T1500_=T[1200:]\n",
    "CP1500_=CP[1200:]\n",
    "\n",
    "T4 = np.linspace(1500,3500,2000)\n",
    "p1, p2 = cf(function2,T1500_,CP1500_)\n",
    "fit1500_ = function4(T4,*p1)\n",
    "\n",
    "\n",
    "# 5) Plotting the Actual Curve and the 'Piecefits'\n",
    "\n",
    "plt.plot(T,CP,'k',linewidth=10)           #Linewidth exaggerated for better visualisation\n",
    "plt.plot(T1,fit300_600,'g', linewidth=3)\n",
    "plt.plot(T2,fit600_1000,'m', linewidth=3)\n",
    "plt.plot(T3,fit1000_1500,'y', linewidth=3)\n",
    "plt.plot(T4,fit1500_,color='r', linewidth=3)\n",
    "plt.legend(['Actual Curve', 'Part1','Part2','Part3','Part4'])\n",
    "plt.xlabel('Temperature')\n",
    "plt.ylabel('Cp')\n",
    "plt.title('Piecewise Polynomoial Curve Fitting')\n",
    "plt.grid()\n",
    "plt.show()"
   ]
  },
  {
   "cell_type": "code",
   "execution_count": null,
   "metadata": {},
   "outputs": [],
   "source": []
  },
  {
   "cell_type": "code",
   "execution_count": null,
   "metadata": {},
   "outputs": [],
   "source": []
  },
  {
   "cell_type": "code",
   "execution_count": null,
   "metadata": {},
   "outputs": [],
   "source": [
    "from pykalman import KalmanFilter\n",
    "kf = KalmanFilter(initial_state_mean=0, n_dim_obs=2)"
   ]
  }
 ],
 "metadata": {
  "kernelspec": {
   "display_name": "Python [conda env:pytorch_rl] *",
   "language": "python",
   "name": "conda-env-pytorch_rl-py"
  },
  "language_info": {
   "codemirror_mode": {
    "name": "ipython",
    "version": 3
   },
   "file_extension": ".py",
   "mimetype": "text/x-python",
   "name": "python",
   "nbconvert_exporter": "python",
   "pygments_lexer": "ipython3",
   "version": "3.7.6"
  }
 },
 "nbformat": 4,
 "nbformat_minor": 2
}
